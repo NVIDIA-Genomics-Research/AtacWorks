{
 "cells": [
  {
   "cell_type": "markdown",
   "metadata": {},
   "source": [
    "## Tutorial 2: Using a trained AtacWorks model to denoise ATAC-seq data and call peaks. \n",
    "\n",
    "## Introduction\n",
    "\n",
    "In this tutorial we use a pre-trained AtacWorks model to denoise and call peaks from low-coverage aggregate single-cell ATAC-seq data. We use the dsc-ATAC-seq dataset presented in reference (1), section (when text is ready, add a reference to page number, section, table). This dataset consists of single-cell ATAC-seq data from several types of human blood cells.\n",
    "\n",
    "We selected 2400 NK cells from this dataset - this is our ‘clean’, high-coverage dataset. We then randomly sampled 50 of these 2400 NK cells. Here's what the ATAC-seq signal from 50 cells and 2400 cells looks like, for a region on chromosome 10:\n",
    "\n",
    "![subsampled_NK_cells](../docs/tutorials/NK.2400.50.png)\n",
    "\n",
    "Compared to the 'clean' signal from 2400 cells, the aggregated ATAC-seq profile of these 50 cells is noisy. Because the signal is noisy, peak calls calculated by MACS2 on this data (shown as red bars below the signal tracks) are also inaccurate. The AUPRC of peak calling by MACS2 on the noisy data is only 0.20.\n",
    "\n",
    "As reported in our paper, we trained an AtacWorks model to learn a mapping from 50-cell signal to 2400-cell signals and peak calls. In other words, given a noisy ATAC-seq signal from 50 cells, this model learned what the signal would look like - and where the peaks would be called - if we had sequenced 2400 cells. This model was trained on data from Monocytes and B cells, so it has not encountered data from NK cells.\n",
    "\n",
    "If you want to train your own AtacWorks model instead of using the model reported in the paper, refer to [Tutorial 1](tutorial1.ipynb).\n"
   ]
  },
  {
   "cell_type": "markdown",
   "metadata": {},
   "source": [
    "**NOTE: You  may notice an exclamation mark (!) before most of the commands in this tutorial. That's because most of them are bash commands and to execute bash commands through notebook, they have to be preceded by an exclamation. These commands be directly copy pasted into a terminal (without the !) and executed. We created this notebook to make it very simple for our users to run the tutorials without having to worry about copy pasting.**"
   ]
  },
  {
   "cell_type": "markdown",
   "metadata": {},
   "source": [
    "## Step 1: Create folder and set AtacWorks path"
   ]
  },
  {
   "cell_type": "code",
   "execution_count": 1,
   "metadata": {},
   "outputs": [
    {
     "name": "stdout",
     "output_type": "stream",
     "text": [
      "env: atacworks=/ntadimeti/AtacWorks\n"
     ]
    }
   ],
   "source": [
    "%env atacworks=/ntadimeti/AtacWorks"
   ]
  },
  {
   "cell_type": "markdown",
   "metadata": {},
   "source": [
    "Create a folder for this experiment.  os.chdir() below allows us to enter into the new directory."
   ]
  },
  {
   "cell_type": "code",
   "execution_count": 2,
   "metadata": {},
   "outputs": [],
   "source": [
    "!mkdir tutorial2\n",
    "import os\n",
    "os.chdir(\"tutorial2\")"
   ]
  },
  {
   "cell_type": "markdown",
   "metadata": {},
   "source": [
    "## Step 2: Download model"
   ]
  },
  {
   "cell_type": "markdown",
   "metadata": {},
   "source": [
    "Download a pre-trained deep learning model (model.pth.tar) trained with dsc-ATAC-seq data from Monocytes and B cells. This model was reported and used in the AtacWorks paper (1)."
   ]
  },
  {
   "cell_type": "code",
   "execution_count": 3,
   "metadata": {},
   "outputs": [
    {
     "name": "stdout",
     "output_type": "stream",
     "text": [
      "--2020-06-10 16:30:24--  https://atacworks-paper.s3.us-east-2.amazonaws.com/dsc_atac_blood_cell_denoising_experiments/50_cells/models/model.pth.tar\n",
      "Resolving atacworks-paper.s3.us-east-2.amazonaws.com (atacworks-paper.s3.us-east-2.amazonaws.com)... 52.219.84.112\n",
      "Connecting to atacworks-paper.s3.us-east-2.amazonaws.com (atacworks-paper.s3.us-east-2.amazonaws.com)|52.219.84.112|:443... connected.\n",
      "HTTP request sent, awaiting response... 200 OK\n",
      "Length: 892750 (872K) [application/x-tar]\n",
      "Saving to: 'models/model.pth.tar'\n",
      "\n",
      "model.pth.tar       100%[===================>] 871.83K  3.11MB/s    in 0.3s    \n",
      "\n",
      "2020-06-10 16:30:25 (3.11 MB/s) - 'models/model.pth.tar' saved [892750/892750]\n",
      "\n"
     ]
    }
   ],
   "source": [
    "!mkdir models\n",
    "!wget -P models https://atacworks-paper.s3.us-east-2.amazonaws.com/dsc_atac_blood_cell_denoising_experiments/50_cells/models/model.pth.tar"
   ]
  },
  {
   "cell_type": "markdown",
   "metadata": {},
   "source": [
    "## Step 3: Download config files"
   ]
  },
  {
   "cell_type": "markdown",
   "metadata": {},
   "source": [
    "We also need to download the 'configs' directory containing config files for this experiment. The config files describe the structure of the deep learning model and the parameters used to run inference."
   ]
  },
  {
   "cell_type": "code",
   "execution_count": 4,
   "metadata": {},
   "outputs": [
    {
     "name": "stdout",
     "output_type": "stream",
     "text": [
      "--2020-06-10 16:30:26--  https://atacworks-paper.s3.us-east-2.amazonaws.com/dsc_atac_blood_cell_denoising_experiments/50_cells/configs/infer_config.yaml\n",
      "Resolving atacworks-paper.s3.us-east-2.amazonaws.com (atacworks-paper.s3.us-east-2.amazonaws.com)... 52.219.104.136\n",
      "Connecting to atacworks-paper.s3.us-east-2.amazonaws.com (atacworks-paper.s3.us-east-2.amazonaws.com)|52.219.104.136|:443... connected.\n",
      "HTTP request sent, awaiting response... 200 OK\n",
      "Length: 644 []\n",
      "Saving to: 'configs/infer_config.yaml'\n",
      "\n",
      "infer_config.yaml   100%[===================>]     644  --.-KB/s    in 0s      \n",
      "\n",
      "2020-06-10 16:30:26 (10.9 MB/s) - 'configs/infer_config.yaml' saved [644/644]\n",
      "\n",
      "--2020-06-10 16:30:26--  https://atacworks-paper.s3.us-east-2.amazonaws.com/dsc_atac_blood_cell_denoising_experiments/50_cells/configs/model_structure.yaml\n",
      "Resolving atacworks-paper.s3.us-east-2.amazonaws.com (atacworks-paper.s3.us-east-2.amazonaws.com)... 52.219.97.2\n",
      "Connecting to atacworks-paper.s3.us-east-2.amazonaws.com (atacworks-paper.s3.us-east-2.amazonaws.com)|52.219.97.2|:443... connected.\n",
      "HTTP request sent, awaiting response... 200 OK\n",
      "Length: 932 []\n",
      "Saving to: 'configs/model_structure.yaml'\n",
      "\n",
      "model_structure.yam 100%[===================>]     932  --.-KB/s    in 0s      \n",
      "\n",
      "2020-06-10 16:30:27 (16.5 MB/s) - 'configs/model_structure.yaml' saved [932/932]\n",
      "\n"
     ]
    }
   ],
   "source": [
    "!mkdir configs\n",
    "!wget -P configs https://atacworks-paper.s3.us-east-2.amazonaws.com/dsc_atac_blood_cell_denoising_experiments/50_cells/configs/infer_config.yaml\n",
    "!wget -P configs https://atacworks-paper.s3.us-east-2.amazonaws.com/dsc_atac_blood_cell_denoising_experiments/50_cells/configs/model_structure.yaml"
   ]
  },
  {
   "cell_type": "markdown",
   "metadata": {},
   "source": [
    "## Step 4: Download the test dsc-ATAC-seq signal from 50 NK cells (~1M reads), in bigWig format"
   ]
  },
  {
   "cell_type": "code",
   "execution_count": 5,
   "metadata": {},
   "outputs": [
    {
     "name": "stdout",
     "output_type": "stream",
     "text": [
      "--2020-06-10 16:30:27--  https://atacworks-paper.s3.us-east-2.amazonaws.com/dsc_atac_blood_cell_denoising_experiments/50_cells/test_data/noisy_data/dsc.1.NK.50.cutsites.smoothed.200.bw\n",
      "Resolving atacworks-paper.s3.us-east-2.amazonaws.com (atacworks-paper.s3.us-east-2.amazonaws.com)... 52.219.97.2\n",
      "Connecting to atacworks-paper.s3.us-east-2.amazonaws.com (atacworks-paper.s3.us-east-2.amazonaws.com)|52.219.97.2|:443... connected.\n",
      "HTTP request sent, awaiting response... 200 OK\n",
      "Length: 8906319 (8.5M) [binary/octet-stream]\n",
      "Saving to: 'dsc.1.NK.50.cutsites.smoothed.200.bw'\n",
      "\n",
      "dsc.1.NK.50.cutsite 100%[===================>]   8.49M  6.52MB/s    in 1.3s    \n",
      "\n",
      "2020-06-10 16:30:29 (6.52 MB/s) - 'dsc.1.NK.50.cutsites.smoothed.200.bw' saved [8906319/8906319]\n",
      "\n"
     ]
    }
   ],
   "source": [
    "!wget https://atacworks-paper.s3.us-east-2.amazonaws.com/dsc_atac_blood_cell_denoising_experiments/50_cells/test_data/noisy_data/dsc.1.NK.50.cutsites.smoothed.200.bw"
   ]
  },
  {
   "cell_type": "markdown",
   "metadata": {},
   "source": [
    "## Step 5: Create genomic intervals to define regions for testing"
   ]
  },
  {
   "cell_type": "markdown",
   "metadata": {},
   "source": [
    "The model we downloaded takes the input ATAC-seq signal in non-overlapping genomic intervals spanning 50,000 bp. To define the genomic regions for the model to read, we take the chromosomes on which we want to apply the model and split their lengths into 50,000-bp intervals, which we save in BED format. \n",
    "In this example, we will apply the model to chromosomes 1-22. The reference genome we use is hg19. We use the prepared chromosome sizes file `hg19.auto.sizes`, which contains the sizes of chromosomes 1-22 in hg19."
   ]
  },
  {
   "cell_type": "code",
   "execution_count": 6,
   "metadata": {},
   "outputs": [
    {
     "name": "stdout",
     "output_type": "stream",
     "text": [
      "INFO:2020-06-10 16:30:30,413:AtacWorks-intervals] Generating intervals tiling across all chromosomes             in sizes file: /ntadimeti/AtacWorks/data/reference/hg19.auto.sizes\n",
      "INFO:2020-06-10 16:30:31,152:AtacWorks-intervals] Done!\n"
     ]
    }
   ],
   "source": [
    "!mkdir intervals\n",
    "!python $atacworks/scripts/get_intervals.py \\\n",
    "    --sizes $atacworks/data/reference/hg19.auto.sizes \\\n",
    "    --intervalsize 50000 \\\n",
    "    --out_dir intervals \\\n",
    "    --prefix hg19.50000 \\\n",
    "    --wg"
   ]
  },
  {
   "cell_type": "markdown",
   "metadata": {},
   "source": [
    "This produces a BED file (`intervals/hg19.50000.genome_intervals.bed`).\n",
    "\n",
    "For more information type `python $atacworks/scripts/get_intervals.py --help`"
   ]
  },
  {
   "cell_type": "markdown",
   "metadata": {},
   "source": [
    "## Step 6: Read test data over the selected intervals, and save in .h5 format"
   ]
  },
  {
   "cell_type": "markdown",
   "metadata": {},
   "source": [
    "We supply to `bw2h5.py` the bigWig file containing the noisy ATAC-seq signal, and the BED file containing the intervals on which to apply the model. This script reads the ATAC-seq signal within each supplied interval and saves it to a .h5 file."
   ]
  },
  {
   "cell_type": "code",
   "execution_count": 7,
   "metadata": {},
   "outputs": [
    {
     "name": "stdout",
     "output_type": "stream",
     "text": [
      "INFO:2020-06-10 16:30:32,470:AtacWorks-bw2h5] Reading intervals\n",
      "INFO:2020-06-10 16:30:32,494:AtacWorks-bw2h5] Read 57611 intervals\n",
      "INFO:2020-06-10 16:30:32,494:AtacWorks-bw2h5] Writing data in 58 batches.\n",
      "INFO:2020-06-10 16:30:32,494:AtacWorks-bw2h5] Extracting data for each batch and writing to h5 file\n",
      "INFO:2020-06-10 16:30:32,494:AtacWorks-bw2h5] batch 0 of 58\n",
      "INFO:2020-06-10 16:31:40,837:AtacWorks-bw2h5] batch 10 of 58\n",
      "INFO:2020-06-10 16:32:45,415:AtacWorks-bw2h5] batch 20 of 58\n",
      "INFO:2020-06-10 16:33:50,764:AtacWorks-bw2h5] batch 30 of 58\n",
      "INFO:2020-06-10 16:34:55,029:AtacWorks-bw2h5] batch 40 of 58\n",
      "INFO:2020-06-10 16:36:04,497:AtacWorks-bw2h5] batch 50 of 58\n",
      "INFO:2020-06-10 16:36:54,095:AtacWorks-bw2h5] Done! Saved to ./NK.50_cells.h5\n"
     ]
    }
   ],
   "source": [
    "!python $atacworks/scripts/bw2h5.py \\\n",
    "           --noisybw dsc.1.NK.50.cutsites.smoothed.200.bw \\\n",
    "           --intervals intervals/hg19.50000.genome_intervals.bed \\\n",
    "           --out_dir ./ \\\n",
    "           --prefix NK.50_cells \\\n",
    "           --pad 5000 \\\n",
    "           --nolabel"
   ]
  },
  {
   "cell_type": "markdown",
   "metadata": {},
   "source": [
    "This creates a file `NK.50_cells.h5`, which contains the noisy ATAC-seq signal to be fed to the pre-trained model.\n",
    "\n",
    "For more information type `python $atacworks/scripts/bw2h5.py --help`"
   ]
  },
  {
   "cell_type": "markdown",
   "metadata": {},
   "source": [
    "## Step 7: Inference on selected intervals, producing denoised track and binary peak calls"
   ]
  },
  {
   "cell_type": "code",
   "execution_count": 8,
   "metadata": {},
   "outputs": [
    {
     "name": "stdout",
     "output_type": "stream",
     "text": [
      "INFO:2020-06-10 16:36:56,424:AtacWorks-main] Checkng input files for compatibility\n",
      "\u001b[33mBuilding model: resnet ...\u001b[0m\n",
      "\u001b[33mLoading model weights from ./models/model.pth.tar...\u001b[0m\n",
      "\u001b[33mFinished loading.\u001b[0m\n",
      "INFO:2020-06-10 16:37:06,095:AtacWorks-model_utils] Compiling model in DistributedDataParallel\n",
      "INFO:2020-06-10 16:37:06,181:AtacWorks-model_utils] Compiling model in DistributedDataParallel\n",
      "INFO:2020-06-10 16:37:06,231:AtacWorks-model_utils] Compiling model in DistributedDataParallel\n",
      "INFO:2020-06-10 16:37:06,232:AtacWorks-model_utils] Compiling model in DistributedDataParallel\n",
      "\u001b[33mFinished building.\u001b[0m\n",
      "Inference -------------------- [ 0/29] \n",
      "\u001b[33mInference time taken:  189.338s (Load    9.037s,Prediction  179.972s)\u001b[0m\n",
      "INFO:2020-06-10 16:40:22,944:AtacWorks-main] Waiting for writer to finish...\n",
      "Writing the output to bigwig files\n",
      "Saving config file to ./infer_config.yaml...\u001b[0m\n"
     ]
    }
   ],
   "source": [
    "!atacworks denoise \\\n",
    "    --input_files NK.50_cells.h5 \\\n",
    "    --sizes_file $atacworks/data/reference/hg19.auto.sizes \\\n",
    "    --config configs/infer_config.yaml \\\n",
    "    --config_mparams configs/model_structure.yaml"
   ]
  },
  {
   "cell_type": "markdown",
   "metadata": {},
   "source": [
    "Note: `infer_config.yaml` is set up to use multiple GPUs. If you are using a single GPU, edit `infer_config.yaml` to change the line `gpu: \"None\"` to read `gpu: 0`."
   ]
  },
  {
   "cell_type": "markdown",
   "metadata": {},
   "source": [
    "The inference results will be saved in the folder `output_latest`. This folder will contain four files: \n",
    "1. `NK_inferred.track.bedGraph` \n",
    "2. `NK_inferred.track.bw` \n",
    "3. `NK_inferred.peaks.bedGraph`. \n",
    "4. `NK_inferred.peaks.bw`\n",
    "\n",
    "`NK_inferred.track.bedGraph` and `NK_inferred.track.bw` contain the denoised ATAC-seq track. `NK_inferred.peaks.bedGraph` and `NK_inferred.peaks.bw` contain the positions in the genome that are designated as peaks (the model predicts that the probability of these positions being part of a peak is at least 0.5)\n",
    "\n",
    "To change any of the parameters for inference with the deep learning model, you can edit the parameters in `configs/infer_config.yaml` or `configs/model_structure.yaml` and run the command above. \n",
    "\n",
    "Type `python $atacworks/scripts/main.py infer --help` for an explanation of the parameters.\n",
    "\n",
    "If you are using your own model instead of the one provided, edit `configs/infer_config.yaml` to supply the path to your model under `weights_path`, in place of `model.pth.tar`."
   ]
  },
  {
   "cell_type": "markdown",
   "metadata": {},
   "source": [
    "## Step 8: Format peak calls"
   ]
  },
  {
   "cell_type": "markdown",
   "metadata": {},
   "source": [
    "Delete peaks that are shorter than 20 bp in leangth, and format peak calls in BED format with coverage statistics and summit calls:"
   ]
  },
  {
   "cell_type": "code",
   "execution_count": 21,
   "metadata": {},
   "outputs": [
    {
     "name": "stdout",
     "output_type": "stream",
     "text": [
      "INFO:2020-06-10 18:19:13,109:AtacWorks-peaksummary] Writing peaks to bedGraph file inference_output_latest/NK_inferred.peak_calls.bedGraph\n",
      "INFO:2020-06-10 18:19:13,468:AtacWorks-peaksummary] Reading peaks\n",
      "INFO:2020-06-10 18:19:13,532:AtacWorks-peaksummary] Calculating peak statistics\n",
      "INFO:2020-06-10 18:20:29,283:AtacWorks-peaksummary] reduced number of peaks from 225182 to 26575.\n",
      "INFO:2020-06-10 18:20:29,283:AtacWorks-peaksummary] Writing peaks to BED file inference_output_latest/NK_inferred.peak_calls.bed\n",
      "INFO:2020-06-10 18:20:29,551:AtacWorks-peaksummary] Deleting bedGraph file\n"
     ]
    }
   ],
   "source": [
    "!python $atacworks/scripts/peaksummary.py \\\n",
    "    --peakbw inference_output_latest/NK_inferred.peaks.bw \\\n",
    "    --trackbw inference_output_latest/NK_inferred.track.bw \\\n",
    "    --prefix NK_inferred.peak_calls \\\n",
    "    --out_dir inference_output_latest \\\n",
    "    --minlen 20"
   ]
  },
  {
   "cell_type": "code",
   "execution_count": 2,
   "metadata": {},
   "outputs": [
    {
     "name": "stdout",
     "output_type": "stream",
     "text": [
      "#chrom\tstart\tend\tlen\tmean\tmax\trelativesummit\tsummit\n",
      "chr1\t10060\t10363\t303\t32.660064697265625\t54.0\t60\t10120\n",
      "chr1\t565575\t566189\t614\t81.98696899414062\t207.0\t321\t565896\n",
      "chr1\t569638\t570165\t527\t73.18785858154297\t176.0\t273\t569911\n",
      "chr1\t713600\t714786\t1186\t376.9924011230469\t1283.0\t531\t714131\n",
      "chr1\t762280\t763421\t1141\t143.57669067382812\t522.0\t594\t762874\n",
      "chr1\t805037\t805620\t583\t47.64665603637695\t100.0\t188\t805225\n",
      "chr1\t839713\t840498\t785\t180.5477752685547\t583.0\t398\t840111\n",
      "chr1\t856259\t856826\t567\t38.50440979003906\t49.0\t194\t856453\n",
      "chr1\t877933\t878141\t208\t31.360576629638672\t39.0\t113\t878046\n"
     ]
    }
   ],
   "source": [
    "!head tutorial2/inference_output_latest/NK_inferred.peak_calls.bed"
   ]
  },
  {
   "cell_type": "markdown",
   "metadata": {},
   "source": [
    "This produces a file `output_latest/NK_inferred.peak_calls.bed` with 8 columns:\n",
    "1. chromosome\n",
    "2. start position of peak\n",
    "3. end position of peak\n",
    "4. length of peak (bp)\n",
    "5. Mean coverage over peak\n",
    "6. Maximum coverage in peak\n",
    "7. Position of summit (relative to start)\n",
    "8. Position of summit (absolute)\n",
    "\n",
    "For more information type `python $atacworks/scripts/peaksummary.py --help`"
   ]
  },
  {
   "cell_type": "markdown",
   "metadata": {},
   "source": [
    "## Appendix 1: Output the peak probabilities in inference instead of peak calls"
   ]
  },
  {
   "cell_type": "markdown",
   "metadata": {},
   "source": [
    "The model predicts the probability of every position on the genome being part of a peak. In the above command, we take a cutoff of 0.5, and output the positions of regions where the probability is greater than 0.5. To output the probability for every base in the genome without any cutoff, we use the following command:\n"
   ]
  },
  {
   "cell_type": "code",
   "execution_count": 24,
   "metadata": {},
   "outputs": [
    {
     "name": "stdout",
     "output_type": "stream",
     "text": [
      "INFO:2020-06-10 18:23:37,143:AtacWorks-main] Checkng input files for compatibility\n",
      "\u001b[33mBuilding model: resnet ...\u001b[0m\n",
      "\u001b[33mLoading model weights from ./models/model.pth.tar...\u001b[0m\n",
      "INFO:2020-06-10 18:23:46,923:AtacWorks-model_utils] Compiling model in DistributedDataParallel\n",
      "INFO:2020-06-10 18:23:47,028:AtacWorks-model_utils] Compiling model in DistributedDataParallel\n",
      "\u001b[33mFinished loading.\u001b[0m\n",
      "INFO:2020-06-10 18:23:47,057:AtacWorks-model_utils] Compiling model in DistributedDataParallel\n",
      "INFO:2020-06-10 18:23:47,155:AtacWorks-model_utils] Compiling model in DistributedDataParallel\n",
      "\u001b[33mFinished building.\u001b[0m\n",
      "Inference -------------------- [ 0/29] \n",
      "\u001b[33mInference time taken:  184.018s (Load    6.425s,Prediction  177.351s)\u001b[0m\n",
      "INFO:2020-06-10 18:26:57,449:AtacWorks-main] Waiting for writer to finish...\n",
      "Writing the output to bigwig files\n"
     ]
    }
   ],
   "source": [
    "!atacworks denoise \\\n",
    "    --input_files NK.50_cells.h5 \\\n",
    "    --sizes_file $atacworks/data/reference/hg19.auto.sizes \\\n",
    "    --config configs/infer_config.yaml \\\n",
    "    --config_mparams configs/model_structure.yaml \\\n",
    "    --infer_threshold None"
   ]
  },
  {
   "cell_type": "markdown",
   "metadata": {},
   "source": [
    "The inference results will be saved in the folder `inference_output_latest`. This folder will contain the same 4 files described in Step 7. However, `NK_inferred.peaks.bedGraph` and `NK_inferred.peaks.bw` will contain the probability of being part of a peak, for every position in the genome. This command is significantly slower, and the `NK_inferred.peaks.bedGraph` file produced by this command is larger than the file produced in Step 7.\n",
    "\n",
    "The above command is useful in the following situations:\n",
    "1. To calculate AUPRC or AUROC metrics.\n",
    "2. If you are not sure what probability threshold to use for peak calling and want to try multiple thresholds.\n",
    "3. If you wish to use the MACS2 subcommand `macs2 bdgpeakcall` for peak calling."
   ]
  },
  {
   "cell_type": "markdown",
   "metadata": {},
   "source": [
    "To call peaks from the probability track generated by this command, you can use `macs2 callpeak` from MACS2 (link) with the following command:"
   ]
  },
  {
   "cell_type": "code",
   "execution_count": 27,
   "metadata": {
    "scrolled": true
   },
   "outputs": [
    {
     "name": "stdout",
     "output_type": "stream",
     "text": [
      "INFO  @ Wed, 10 Jun 2020 20:58:06: Read and build bedGraph... \n",
      "INFO  @ Wed, 10 Jun 2020 21:00:10: Call peaks from bedGraph... \n",
      "INFO  @ Wed, 10 Jun 2020 21:00:21: Write peaks... \n",
      "INFO  @ Wed, 10 Jun 2020 21:00:21: Done \n"
     ]
    }
   ],
   "source": [
    "!macs2 bdgpeakcall -i inference_output_latest/NK_inferred.peaks.bedGraph -o inference_output_latest/inferred.peaks.narrowPeak -c 0.5"
   ]
  },
  {
   "cell_type": "markdown",
   "metadata": {},
   "source": [
    "Where `0.5` is the probability threshold to call peaks. Note that the summit calls and peak sizes generated by this procedure will be slightly different from those produced by steps 7-8."
   ]
  }
 ],
 "metadata": {
  "kernelspec": {
   "display_name": "Python 3",
   "language": "python",
   "name": "python3"
  },
  "language_info": {
   "codemirror_mode": {
    "name": "ipython",
    "version": 3
   },
   "file_extension": ".py",
   "mimetype": "text/x-python",
   "name": "python",
   "nbconvert_exporter": "python",
   "pygments_lexer": "ipython3",
   "version": "3.6.9"
  }
 },
 "nbformat": 4,
 "nbformat_minor": 4
}
