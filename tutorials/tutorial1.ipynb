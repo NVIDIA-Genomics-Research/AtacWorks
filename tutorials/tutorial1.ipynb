{
 "cells": [
  {
   "cell_type": "markdown",
   "metadata": {},
   "source": [
    "# Tutorial 1: Training an AtacWorks model \n",
    "\n",
    "## Introduction\n",
    "\n",
    "In this tutorial we train an AtacWorks model to denoise the signal track and call peaks from aggregate single-cell ATAC-seq data derived from a small number of cells. We use the dsc-ATAC-seq dataset presented in reference (1) (Section \"AtacWorks enhances ATAC-seq results from small numbers of single cells\", also Supplementary Table 8). This dataset consists of single-cell ATAC-seq data from several types of human blood cells.\n",
    "\n",
    "Note that all the AtacWorks models described in reference (1) are available to download (https://atacworks-paper.s3.us-east-2.amazonaws.com) and you may be able to use one of these instead of training a new model. To learn how to download and use an existing model, refer to [Tutorial 2](tutorial2.ipynb).\n",
    " \n",
    "We selected 2400 Monocytes from this dataset - this is our ‘clean’, high-coverage dataset. We then randomly sampled 50 of these 2400 Monocytes. Here's what the ATAC-seq signal from 50 cells and 2400 cells looks like, for a region on chromosome 10:\n",
    "\n",
    "![Monocytes subsampled signal](../docs/tutorials/Mono.2400.50.png)\n",
    "\n",
    "Compared to the 'clean' signal from 2400 cells, the aggregated ATAC-Seq signal track from these 50 cells is noisy. Because of noise in the signal, peak calls calculated by MACS2 on this data are also inaccurate.\n",
    "\n",
    "We train an AtacWorks model to learn a mapping from the 50-cell ATAC-seq signals to the 2400-cell ATAC-seq signal and peak calls. In other words, given a noisy ATAC-seq signal from 50 cells, this model learns what the signal would look like - and where the peaks would be called - if we had sequenced 2400 cells."
   ]
  },
  {
   "cell_type": "markdown",
   "metadata": {},
   "source": [
    "**NOTE: You  may notice an exclamation mark (!) before most of the commands in this tutorial. That's because most of them are bash commands and to execute bash commands through notebook, they have to be preceded by an exclamation. These commands be directly copy pasted into a terminal (without the !) and executed. We created this notebook to make it very simple for our users to run the tutorials without having to worry about copy pasting.**"
   ]
  },
  {
   "cell_type": "markdown",
   "metadata": {},
   "source": [
    "## Step 1: Create folder and set AtacWorks path\n",
    "Replace 'path_to_atacworks' with the path to your cloned and set up 'AtacWorks' github repository."
   ]
  },
  {
   "cell_type": "code",
   "execution_count": 50,
   "metadata": {},
   "outputs": [
    {
     "name": "stdout",
     "output_type": "stream",
     "text": [
      "env: atacworks=/ntadimeti/AtacWorks\n"
     ]
    }
   ],
   "source": [
    "%env atacworks=/ntadimeti/AtacWorks"
   ]
  },
  {
   "cell_type": "markdown",
   "metadata": {},
   "source": [
    "Create a folder for this experiment. os.chdir() below allows us to enter into the new directory."
   ]
  },
  {
   "cell_type": "code",
   "execution_count": 2,
   "metadata": {},
   "outputs": [],
   "source": [
    "!mkdir tutorial1\n",
    "import os\n",
    "os.chdir('tutorial1')"
   ]
  },
  {
   "cell_type": "markdown",
   "metadata": {},
   "source": [
    "## Step 2: Download data\n",
    "\n",
    "We will download all of the data needed for this experiment from AWS into the `tutorial1` folder.\n"
   ]
  },
  {
   "cell_type": "markdown",
   "metadata": {},
   "source": [
    "### Noisy ATAC-seq signal from 50 Monocytes"
   ]
  },
  {
   "cell_type": "code",
   "execution_count": 3,
   "metadata": {},
   "outputs": [
    {
     "name": "stdout",
     "output_type": "stream",
     "text": [
      "--2020-06-09 19:55:24--  https://atacworks-paper.s3.us-east-2.amazonaws.com/dsc_atac_blood_cell_denoising_experiments/50_cells/train_data/noisy_data/dsc.1.Mono.50.cutsites.smoothed.200.bw\n",
      "Resolving atacworks-paper.s3.us-east-2.amazonaws.com (atacworks-paper.s3.us-east-2.amazonaws.com)... 52.219.84.0\n",
      "Connecting to atacworks-paper.s3.us-east-2.amazonaws.com (atacworks-paper.s3.us-east-2.amazonaws.com)|52.219.84.0|:443... connected.\n",
      "HTTP request sent, awaiting response... 200 OK\n",
      "Length: 14633285 (14M) [binary/octet-stream]\n",
      "Saving to: 'dsc.1.Mono.50.cutsites.smoothed.200.bw'\n",
      "\n",
      "dsc.1.Mono.50.cutsi 100%[===================>]  13.96M  9.67MB/s    in 1.4s    \n",
      "\n",
      "2020-06-09 19:55:26 (9.67 MB/s) - 'dsc.1.Mono.50.cutsites.smoothed.200.bw' saved [14633285/14633285]\n",
      "\n"
     ]
    }
   ],
   "source": [
    "!wget https://atacworks-paper.s3.us-east-2.amazonaws.com/dsc_atac_blood_cell_denoising_experiments/50_cells/train_data/noisy_data/dsc.1.Mono.50.cutsites.smoothed.200.bw"
   ]
  },
  {
   "cell_type": "markdown",
   "metadata": {},
   "source": [
    "### Clean ATAC-seq signal from 2400 Monocytes"
   ]
  },
  {
   "cell_type": "code",
   "execution_count": 4,
   "metadata": {},
   "outputs": [
    {
     "name": "stdout",
     "output_type": "stream",
     "text": [
      "--2020-06-09 19:55:26--  https://atacworks-paper.s3.us-east-2.amazonaws.com/dsc_atac_blood_cell_denoising_experiments/50_cells/train_data/clean_data/dsc.Mono.2400.cutsites.smoothed.200.bw\n",
      "Resolving atacworks-paper.s3.us-east-2.amazonaws.com (atacworks-paper.s3.us-east-2.amazonaws.com)... 52.219.104.112\n",
      "Connecting to atacworks-paper.s3.us-east-2.amazonaws.com (atacworks-paper.s3.us-east-2.amazonaws.com)|52.219.104.112|:443... connected.\n",
      "HTTP request sent, awaiting response... 200 OK\n",
      "Length: 235468888 (225M) [binary/octet-stream]\n",
      "Saving to: 'dsc.Mono.2400.cutsites.smoothed.200.bw'\n",
      "\n",
      "dsc.Mono.2400.cutsi 100%[===================>] 224.56M  15.0MB/s    in 16s     \n",
      "\n",
      "2020-06-09 19:55:43 (14.0 MB/s) - 'dsc.Mono.2400.cutsites.smoothed.200.bw' saved [235468888/235468888]\n",
      "\n"
     ]
    }
   ],
   "source": [
    "!wget https://atacworks-paper.s3.us-east-2.amazonaws.com/dsc_atac_blood_cell_denoising_experiments/50_cells/train_data/clean_data/dsc.Mono.2400.cutsites.smoothed.200.bw"
   ]
  },
  {
   "cell_type": "markdown",
   "metadata": {},
   "source": [
    "### Clean ATAC-seq peaks from 2400 Monocytes"
   ]
  },
  {
   "cell_type": "code",
   "execution_count": 5,
   "metadata": {},
   "outputs": [
    {
     "name": "stdout",
     "output_type": "stream",
     "text": [
      "--2020-06-09 19:55:43--  https://atacworks-paper.s3.us-east-2.amazonaws.com/dsc_atac_blood_cell_denoising_experiments/50_cells/train_data/clean_data/dsc.Mono.2400.cutsites.smoothed.200.3.narrowPeak\n",
      "Resolving atacworks-paper.s3.us-east-2.amazonaws.com (atacworks-paper.s3.us-east-2.amazonaws.com)... 52.219.100.72\n",
      "Connecting to atacworks-paper.s3.us-east-2.amazonaws.com (atacworks-paper.s3.us-east-2.amazonaws.com)|52.219.100.72|:443... connected.\n",
      "HTTP request sent, awaiting response... 200 OK\n",
      "Length: 16328627 (16M) [binary/octet-stream]\n",
      "Saving to: 'dsc.Mono.2400.cutsites.smoothed.200.3.narrowPeak'\n",
      "\n",
      "dsc.Mono.2400.cutsi 100%[===================>]  15.57M  11.3MB/s    in 1.4s    \n",
      "\n",
      "2020-06-09 19:55:45 (11.3 MB/s) - 'dsc.Mono.2400.cutsites.smoothed.200.3.narrowPeak' saved [16328627/16328627]\n",
      "\n"
     ]
    }
   ],
   "source": [
    "!wget https://atacworks-paper.s3.us-east-2.amazonaws.com/dsc_atac_blood_cell_denoising_experiments/50_cells/train_data/clean_data/dsc.Mono.2400.cutsites.smoothed.200.3.narrowPeak"
   ]
  },
  {
   "cell_type": "markdown",
   "metadata": {},
   "source": [
    "### Config files\n",
    "We also need to download config files for this experiment. The config files describe the structure of the deep learning model and the parameters to train it. We will place these in the `configs` folder. "
   ]
  },
  {
   "cell_type": "code",
   "execution_count": 6,
   "metadata": {},
   "outputs": [
    {
     "name": "stdout",
     "output_type": "stream",
     "text": [
      "--2020-06-09 19:55:46--  https://atacworks-paper.s3.us-east-2.amazonaws.com/dsc_atac_blood_cell_denoising_experiments/50_cells/configs/train_config.yaml\n",
      "Resolving atacworks-paper.s3.us-east-2.amazonaws.com (atacworks-paper.s3.us-east-2.amazonaws.com)... 52.219.96.184\n",
      "Connecting to atacworks-paper.s3.us-east-2.amazonaws.com (atacworks-paper.s3.us-east-2.amazonaws.com)|52.219.96.184|:443... connected.\n",
      "HTTP request sent, awaiting response... 200 OK\n",
      "Length: 652 []\n",
      "Saving to: 'configs/train_config.yaml'\n",
      "\n",
      "train_config.yaml   100%[===================>]     652  --.-KB/s    in 0s      \n",
      "\n",
      "2020-06-09 19:55:46 (6.18 MB/s) - 'configs/train_config.yaml' saved [652/652]\n",
      "\n",
      "--2020-06-09 19:55:47--  https://atacworks-paper.s3.us-east-2.amazonaws.com/dsc_atac_blood_cell_denoising_experiments/50_cells/configs/model_structure.yaml\n",
      "Resolving atacworks-paper.s3.us-east-2.amazonaws.com (atacworks-paper.s3.us-east-2.amazonaws.com)... 52.219.101.27\n",
      "Connecting to atacworks-paper.s3.us-east-2.amazonaws.com (atacworks-paper.s3.us-east-2.amazonaws.com)|52.219.101.27|:443... connected.\n",
      "HTTP request sent, awaiting response... 200 OK\n",
      "Length: 932 []\n",
      "Saving to: 'configs/model_structure.yaml'\n",
      "\n",
      "model_structure.yam 100%[===================>]     932  --.-KB/s    in 0s      \n",
      "\n",
      "2020-06-09 19:55:47 (36.8 MB/s) - 'configs/model_structure.yaml' saved [932/932]\n",
      "\n"
     ]
    }
   ],
   "source": [
    "!mkdir configs\n",
    "!wget -P configs https://atacworks-paper.s3.us-east-2.amazonaws.com/dsc_atac_blood_cell_denoising_experiments/50_cells/configs/train_config.yaml\n",
    "!wget -P configs https://atacworks-paper.s3.us-east-2.amazonaws.com/dsc_atac_blood_cell_denoising_experiments/50_cells/configs/model_structure.yaml"
   ]
  },
  {
   "cell_type": "markdown",
   "metadata": {},
   "source": [
    "## Step 3: Convert clean peak file into bigWig format"
   ]
  },
  {
   "cell_type": "markdown",
   "metadata": {},
   "source": [
    "The clean peak calls (`dsc.Mono.2400.cutsites.smoothed.200.3.narrowPeak`) were produced by MACS2 and are in .narrowPeak format. We need to convert them to bigWig format for use. This also requires us to supply a chromosome sizes file describing the reference genome that we use. \n",
    "\n",
    "Chromosome sizes files for the hg19 and hg38 human reference genomes are supplied with AtacWorks in the folder `AtacWorks/data/reference`. Here, we are using hg19.\n"
   ]
  },
  {
   "cell_type": "code",
   "execution_count": 7,
   "metadata": {},
   "outputs": [
    {
     "name": "stdout",
     "output_type": "stream",
     "text": [
      "INFO:2020-06-09 19:55:48,544:AtacWorks-peak2bw] Reading input file\n",
      "INFO:2020-06-09 19:55:48,816:AtacWorks-peak2bw] Read 105959 peaks.\n",
      "INFO:2020-06-09 19:55:48,819:AtacWorks-peak2bw] Adding score\n",
      "INFO:2020-06-09 19:55:48,820:AtacWorks-peak2bw] Writing peaks to bedGraph file\n",
      "Discarding 0 entries outside sizes file.\n",
      "INFO:2020-06-09 19:55:49,382:AtacWorks-peak2bw] Writing peaks to bigWig file dsc.Mono.2400.cutsites.smoothed.200.3.narrowPeak.bw\n",
      "INFO:2020-06-09 19:55:49,885:AtacWorks-peak2bw] Done!\n"
     ]
    }
   ],
   "source": [
    "!python $atacworks/scripts/peak2bw.py \\\n",
    "    --input dsc.Mono.2400.cutsites.smoothed.200.3.narrowPeak \\\n",
    "    --sizes $atacworks/data/reference/hg19.chrom.sizes \\\n",
    "    --out_dir ./ \\\n",
    "    --skip 1"
   ]
  },
  {
   "cell_type": "markdown",
   "metadata": {},
   "source": [
    "The `--skip 1` argument tells the script to ignore the first line of the narrowPeak file as it contains a header.\n",
    "\n",
    "This command reads the peak positions from the .narrowPeak file and writes them to a bigWig file in the current directory,  named `dsc.Mono.2400.cutsites.smoothed.200.3.narrowPeak.bw`.\n",
    "\n",
    "```\n",
    "INFO:2020-01-22 20:32:05,270:AtacWorks-peak2bw] Reading input files\n",
    "INFO:2020-01-22 20:32:05,387:AtacWorks-peak2bw] Retaining 105959 of 105959 peaks in given chromosomes.\n",
    "INFO:2020-01-22 20:32:05,387:AtacWorks-peak2bw] Adding score\n",
    "INFO:2020-01-22 20:32:05,388:AtacWorks-peak2bw] Writing peaks to bedGraph file\n",
    "INFO:2020-01-22 20:32:05,855:AtacWorks-peak2bw] Writing peaks to bigWig file dsc.Mono.2400.cutsites.smoothed.200.3.narrowPeak.bw\n",
    "INFO:2020-01-22 20:32:06,042:AtacWorks-peak2bw] Done!\n",
    "```\n",
    "\n",
    "For more information type `python $atacworks/scripts/peak2bw.py --help`"
   ]
  },
  {
   "cell_type": "markdown",
   "metadata": {},
   "source": [
    "## Step 4: Create genomic intervals to define regions for training and validation\n",
    "\n",
    "We need to define which regions of the genome will be used to train and test the model. We want to train models on some portion of the genome ('training set') and evaluate their performance on a separate portion ('validation set'). We will choose the model that performs best on the validation set as the best model. Later, we will evaluate the performance of this best model on a third portion of the genome ('holdout set').\n",
    "\n",
    "We provide a chromosome sizes file 'hg19.auto.sizes' that contains sizes for all the autosomes of the hg19 reference genome. We split off chromosome 20 to use as the validation set, and chromosome 10 to use as the holdout set, and use the remaining autosomes as the training set. Since a whole chromosome is too long to feed into the model at once, we split each of these chromosomes into 50,000-bp long intervals."
   ]
  },
  {
   "cell_type": "code",
   "execution_count": 8,
   "metadata": {},
   "outputs": [
    {
     "name": "stdout",
     "output_type": "stream",
     "text": [
      "INFO:2020-06-09 19:55:50,948:AtacWorks-intervals] Generating training intervals\n",
      "INFO:2020-06-09 19:55:51,628:AtacWorks-intervals] Generating val intervals\n",
      "INFO:2020-06-09 19:55:51,662:AtacWorks-intervals] Generating holdout intervals\n",
      "INFO:2020-06-09 19:55:51,687:AtacWorks-intervals] Done!\n"
     ]
    }
   ],
   "source": [
    "!python $atacworks/scripts/get_intervals.py \\\n",
    "     --sizes $atacworks/data/reference/hg19.auto.sizes \\\n",
    "     --intervalsize 50000 \\\n",
    "     --out_dir ./ \\\n",
    "     --val chr20 \\\n",
    "     --holdout chr10"
   ]
  },
  {
   "cell_type": "markdown",
   "metadata": {},
   "source": [
    "This command generates three BED files in the current directory: `training_intervals.bed`, `val_intervals.bed`, and `holdout_intervals.bed`. These BED files contain 50,000-bp long intervals spanning the given chromosomes. We can look at these intervals:\n",
    "\n",
    "```\n",
    "# head training_intervals.bed \n",
    "chr1  0 50000\n",
    "chr1  50000 100000\n",
    "chr1  100000  150000\n",
    "chr1  150000  200000\n",
    "chr1  200000  250000\n",
    "chr1  250000  300000\n",
    "chr1  300000  350000\n",
    "chr1  350000  400000\n",
    "chr1  400000  450000\n",
    "chr1  450000  500000\n",
    "```\n",
    "For more information type `python $atacworks/scripts/get_intervals.py --help`"
   ]
  },
  {
   "cell_type": "markdown",
   "metadata": {},
   "source": [
    "## Step 5: Read the training data and labels and save in .h5 format\n",
    "\n",
    "We take the three bigWig files containing noisy ATAC-seq signal, the clean ATAC-seq signal, and the clean ATAC-seq peak calls. For these three files, we read the values in the regions defined by tge training intervals, and save these values in a format that can be read by our model. First, we read values for the intervals in the training set (`training_intervals.bed`), spanning all autosomes except chr10 and chr20."
   ]
  },
  {
   "cell_type": "code",
   "execution_count": 9,
   "metadata": {},
   "outputs": [
    {
     "name": "stdout",
     "output_type": "stream",
     "text": [
      "INFO:2020-06-09 19:55:53,073:AtacWorks-bw2h5] Reading intervals\n",
      "INFO:2020-06-09 19:55:53,093:AtacWorks-bw2h5] Read 53641 intervals\n",
      "INFO:2020-06-09 19:55:53,093:AtacWorks-bw2h5] Selecting intervals with nonzero coverage\n",
      "INFO:2020-06-09 19:59:23,312:AtacWorks-bw2h5] Retaining 32000 of 53641 nonzero noisy intervals\n",
      "INFO:2020-06-09 19:59:23,315:AtacWorks-bw2h5] Writing data in 32 batches.\n",
      "INFO:2020-06-09 19:59:23,316:AtacWorks-bw2h5] Extracting data for each batch and writing to h5 file\n",
      "INFO:2020-06-09 19:59:23,316:AtacWorks-bw2h5] batch 0 of 32\n",
      "INFO:2020-06-09 20:03:05,931:AtacWorks-bw2h5] batch 10 of 32\n",
      "INFO:2020-06-09 20:06:25,805:AtacWorks-bw2h5] batch 20 of 32\n",
      "INFO:2020-06-09 20:09:48,491:AtacWorks-bw2h5] batch 30 of 32\n",
      "INFO:2020-06-09 20:10:54,850:AtacWorks-bw2h5] Done! Saved to ./Mono.50.2400.train.h5\n"
     ]
    }
   ],
   "source": [
    "!python $atacworks/scripts/bw2h5.py \\\n",
    "           --noisybw dsc.1.Mono.50.cutsites.smoothed.200.bw \\\n",
    "           --cleanbw dsc.Mono.2400.cutsites.smoothed.200.bw \\\n",
    "           --cleanpeakbw dsc.Mono.2400.cutsites.smoothed.200.3.narrowPeak.bw \\\n",
    "           --intervals training_intervals.bed \\\n",
    "           --out_dir ./ \\\n",
    "           --prefix Mono.50.2400.train \\\n",
    "           --pad 5000 \\\n",
    "           --nonzero"
   ]
  },
  {
   "cell_type": "markdown",
   "metadata": {},
   "source": [
    "This produces a .h5 file in the current directory (`Mono.50.2400.train.h5`) containing the training data for the model. The `--nonzero` flag ignores intervals that contain zero coverage. We use this flag for training data as these intervals do not help the model to learn.\n",
    "\n",
    "For more information type `python $atacworks/scripts/bw2h5.py --help`\n"
   ]
  },
  {
   "cell_type": "markdown",
   "metadata": {},
   "source": [
    "## Step 6: Read the validation data and labels and save in .h5 format\n",
    "\n",
    "Next we read and save the validation data for the model.\n"
   ]
  },
  {
   "cell_type": "code",
   "execution_count": 10,
   "metadata": {},
   "outputs": [
    {
     "name": "stdout",
     "output_type": "stream",
     "text": [
      "INFO:2020-06-09 20:10:56,268:AtacWorks-bw2h5] Reading intervals\n",
      "INFO:2020-06-09 20:10:56,410:AtacWorks-bw2h5] Read 1260 intervals\n",
      "INFO:2020-06-09 20:10:56,410:AtacWorks-bw2h5] Writing data in 2 batches.\n",
      "INFO:2020-06-09 20:10:56,410:AtacWorks-bw2h5] Extracting data for each batch and writing to h5 file\n",
      "INFO:2020-06-09 20:10:56,411:AtacWorks-bw2h5] batch 0 of 2\n",
      "INFO:2020-06-09 20:11:39,943:AtacWorks-bw2h5] Done! Saved to ./Mono.50.2400.val.h5\n"
     ]
    }
   ],
   "source": [
    "!python $atacworks/scripts/bw2h5.py \\\n",
    "           --noisybw dsc.1.Mono.50.cutsites.smoothed.200.bw \\\n",
    "           --cleanbw dsc.Mono.2400.cutsites.smoothed.200.bw \\\n",
    "           --cleanpeakbw dsc.Mono.2400.cutsites.smoothed.200.3.narrowPeak.bw \\\n",
    "           --intervals val_intervals.bed \\\n",
    "           --out_dir ./ \\\n",
    "           --prefix Mono.50.2400.val \\\n",
    "           --pad 5000"
   ]
  },
  {
   "cell_type": "markdown",
   "metadata": {},
   "source": [
    "This produces a .h5 file in the current directory (`Mono.50.2400.val.h5`) containing the validation data for the model.\n",
    "\n",
    "\n",
    "## Step 7: Train and validate a model using the parameters in the given config files\n",
    "\n",
    "We next train an AtacWorks model to learn a mapping from the noisy (50-cell) ATAC-seq signal to the clean (2400-cell) ATAC-seq signal and peak calls. The two .yaml files that we downloaded into the `configs` directory contain all the parameters that describe how to train the model. `configs/model_structure.yaml` contains parameters that control the architecture of the model and  `configs/config_params.yaml` contains parameters that control the process of training, such as the learning rate and batch size.\n",
    "\n",
    "To train the model, we supply the training and validation datasets as well as the two config files."
   ]
  },
  {
   "cell_type": "code",
   "execution_count": 11,
   "metadata": {},
   "outputs": [
    {
     "name": "stdout",
     "output_type": "stream",
     "text": [
      "INFO:2020-06-09 20:11:42,089:AtacWorks-main] Running on GPU: 0\n",
      "\u001b[33mBuilding model: resnet ...\u001b[0m\n",
      "\u001b[33mFinished building.\u001b[0m\n",
      "Saving config file to ./trained_models_2020.06.09_20.11/configs/model_structure.yaml...\u001b[0m\n",
      "Num_batches 500; rank 0, gpu 0\n",
      "Epoch [ 0/25] -------------------- [  0/500] mse:  20.142 | pearsonloss:   0.986 | total_loss:   1.603 | bce:   0.607\n",
      "Epoch [ 0/25] ##------------------ [ 50/500] mse:2030.815 | pearsonloss:   0.055 | total_loss:   1.578 | bce:   0.507\n",
      "Epoch [ 0/25] ####---------------- [100/500] mse:  20.136 | pearsonloss:   0.986 | total_loss:   1.079 | bce:   0.083\n",
      "Epoch [ 0/25] ######-------------- [150/500] mse:1938.982 | pearsonloss:   0.014 | total_loss:   1.057 | bce:   0.074\n",
      "Epoch [ 0/25] ########------------ [200/500] mse:  20.121 | pearsonloss:   0.985 | total_loss:   1.096 | bce:   0.101\n",
      "Epoch [ 0/25] ##########---------- [250/500] mse:  75.668 | pearsonloss:   0.015 | total_loss:   0.123 | bce:   0.071\n",
      "Epoch [ 0/25] ############-------- [300/500] mse:  20.126 | pearsonloss:   0.984 | total_loss:   1.081 | bce:   0.087\n",
      "Epoch [ 0/25] ##############------ [350/500] mse:  32.151 | pearsonloss:   0.006 | total_loss:   0.074 | bce:   0.052\n",
      "Epoch [ 0/25] ################---- [400/500] mse:  20.127 | pearsonloss:   0.984 | total_loss:   1.081 | bce:   0.087\n",
      "Epoch [ 0/25] ##################-- [450/500] mse:  25.494 | pearsonloss:   0.006 | total_loss:   0.070 | bce:   0.052\n",
      "Epoch [ 0/25] #################### [499/500] mse:   1.760 | pearsonloss:   0.956 | total_loss:   0.991 | bce:   0.034\n",
      "\u001b[33mEpoch [ 0/25] Time Taken: 1246.960s\u001b[0m\n",
      "Total train time: 1246.960\tFor time: 1214.292\tBack time: 6.492\tPrint time: 22.665\tRemain (data) time: 3.511\n",
      "Eval for 20 batches\n",
      "Inference -------------------- [ 0/20] \n",
      "Evaluating on 50000 points.\u001b[0m\n",
      "Evaluation result: mse:25.3855 | corrcoef: 0.1547 | bce: 0.1142 | recall: 0.1959 | specificity: 0.9819 | auroc: 0.9469\u001b[0m\n",
      "\u001b[33mEvaluation time taken:  32.561s\u001b[0m\n",
      "\u001b[33mNew best metric found - auroc: 0.9469\u001b[0m\n",
      "\u001b[33mSaving model ckpt to ./trained_models_2020.06.09_20.11/epoch0_checkpoint.pth.tar...\u001b[0m\n",
      "\u001b[33mSaving best model to ./trained_models_2020.06.09_20.11/model_best.pth.tar...\u001b[0m\n",
      "Num_batches 500; rank 0, gpu 0\n",
      "Epoch [ 1/25] -------------------- [  0/500] mse: 337.943 | pearsonloss:   0.521 | total_loss:   0.852 | bce:   0.162\n",
      "Epoch [ 1/25] ##------------------ [ 50/500] mse:  36.541 | pearsonloss:   0.706 | total_loss:   0.804 | bce:   0.080\n",
      "Epoch [ 1/25] ####---------------- [100/500] mse: 113.023 | pearsonloss:   0.235 | total_loss:   0.423 | bce:   0.132\n",
      "Epoch [ 1/25] ######-------------- [150/500] mse: 104.200 | pearsonloss:   0.676 | total_loss:   0.812 | bce:   0.084\n",
      "Epoch [ 1/25] ########------------ [200/500] mse: 229.088 | pearsonloss:   0.201 | total_loss:   0.443 | bce:   0.128\n",
      "Epoch [ 1/25] ##########---------- [250/500] mse:  93.982 | pearsonloss:   0.652 | total_loss:   0.781 | bce:   0.082\n",
      "Epoch [ 1/25] ############-------- [300/500] mse: 214.515 | pearsonloss:   0.194 | total_loss:   0.409 | bce:   0.108\n",
      "Epoch [ 1/25] ##############------ [350/500] mse:  77.949 | pearsonloss:   0.583 | total_loss:   0.695 | bce:   0.074\n",
      "Epoch [ 1/25] ################---- [400/500] mse: 156.734 | pearsonloss:   0.203 | total_loss:   0.387 | bce:   0.106\n",
      "Epoch [ 1/25] ##################-- [450/500] mse:  45.026 | pearsonloss:   0.517 | total_loss:   0.611 | bce:   0.071\n",
      "Epoch [ 1/25] #################### [499/500] mse:  25.212 | pearsonloss:   0.472 | total_loss:   0.507 | bce:   0.023\n",
      "\u001b[33mEpoch [ 1/25] Time Taken: 1245.022s\u001b[0m\n",
      "Total train time: 1245.023\tFor time: 1211.385\tBack time: 6.408\tPrint time: 22.869\tRemain (data) time: 4.360\n",
      "Eval for 20 batches\n",
      "Inference -------------------- [ 0/20] \n",
      "Evaluating on 50000 points.\u001b[0m\n",
      "Evaluation result: mse:48.8046 | corrcoef: 0.5685 | bce: 0.0542 | recall: 0.5841 | specificity: 0.9690 | auroc: 0.9752\u001b[0m\n",
      "\u001b[33mEvaluation time taken:  31.676s\u001b[0m\n",
      "\u001b[33mNew best metric found - auroc: 0.9752\u001b[0m\n",
      "\u001b[33mSaving model ckpt to ./trained_models_2020.06.09_20.11/epoch1_checkpoint.pth.tar...\u001b[0m\n",
      "\u001b[33mSaving best model to ./trained_models_2020.06.09_20.11/model_best.pth.tar...\u001b[0m\n",
      "Num_batches 500; rank 0, gpu 0\n",
      "Epoch [ 2/25] -------------------- [  0/500] mse: 408.155 | pearsonloss:   0.037 | total_loss:   0.269 | bce:   0.028\n",
      "Epoch [ 2/25] ##------------------ [ 50/500] mse:   4.660 | pearsonloss:   0.801 | total_loss:   0.830 | bce:   0.027\n",
      "Epoch [ 2/25] ####---------------- [100/500] mse:  51.091 | pearsonloss:   0.009 | total_loss:   0.049 | bce:   0.014\n",
      "Epoch [ 2/25] ######-------------- [150/500] mse:   4.576 | pearsonloss:   0.769 | total_loss:   0.792 | bce:   0.021\n",
      "Epoch [ 2/25] ########------------ [200/500] mse:  47.672 | pearsonloss:   0.008 | total_loss:   0.044 | bce:   0.012\n",
      "Epoch [ 2/25] ##########---------- [250/500] mse:   4.531 | pearsonloss:   0.738 | total_loss:   0.750 | bce:   0.010\n",
      "Epoch [ 2/25] ############-------- [300/500] mse:  45.307 | pearsonloss:   0.007 | total_loss:   0.041 | bce:   0.012\n",
      "Epoch [ 2/25] ##############------ [350/500] mse:   4.776 | pearsonloss:   0.712 | total_loss:   0.726 | bce:   0.012\n",
      "Epoch [ 2/25] ################---- [400/500] mse:  32.114 | pearsonloss:   0.006 | total_loss:   0.032 | bce:   0.010\n",
      "Epoch [ 2/25] ##################-- [450/500] mse:   4.924 | pearsonloss:   0.690 | total_loss:   0.710 | bce:   0.018\n",
      "Epoch [ 2/25] #################### [499/500] mse: 302.338 | pearsonloss:   0.095 | total_loss:   0.474 | bce:   0.227\n",
      "\u001b[33mEpoch [ 2/25] Time Taken: 1242.181s\u001b[0m\n",
      "Total train time: 1242.181\tFor time: 1210.509\tBack time: 6.522\tPrint time: 22.621\tRemain (data) time: 2.529\n",
      "Eval for 20 batches\n",
      "Inference -------------------- [ 0/20] \n",
      "Evaluating on 50000 points.\u001b[0m\n",
      "Evaluation result: mse:37.8617 | corrcoef: 0.5458 | bce: 0.0786 | recall: 0.6204 | specificity: 0.9667 | auroc: 0.9706\u001b[0m\n",
      "\u001b[33mEvaluation time taken:  32.777s\u001b[0m\n",
      "\u001b[33mSaving model ckpt to ./trained_models_2020.06.09_20.11/epoch2_checkpoint.pth.tar...\u001b[0m\n",
      "Num_batches 500; rank 0, gpu 0\n",
      "Epoch [ 3/25] -------------------- [  0/500] mse: 105.249 | pearsonloss:   0.841 | total_loss:   1.032 | bce:   0.138\n",
      "Epoch [ 3/25] ##------------------ [ 50/500] mse: 103.495 | pearsonloss:   0.873 | total_loss:   0.949 | bce:   0.023\n",
      "Epoch [ 3/25] ####---------------- [100/500] mse:  94.700 | pearsonloss:   0.815 | total_loss:   0.911 | bce:   0.049\n",
      "Epoch [ 3/25] ######-------------- [150/500] mse:  39.526 | pearsonloss:   0.859 | total_loss:   0.885 | bce:   0.007\n",
      "Epoch [ 3/25] ########------------ [200/500] mse:  53.101 | pearsonloss:   0.769 | total_loss:   0.805 | bce:   0.010\n",
      "Epoch [ 3/25] ##########---------- [250/500] mse:  26.367 | pearsonloss:   0.856 | total_loss:   0.874 | bce:   0.005\n",
      "Epoch [ 3/25] ############-------- [300/500] mse:  45.160 | pearsonloss:   0.743 | total_loss:   0.773 | bce:   0.007\n",
      "Epoch [ 3/25] ##############------ [350/500] mse:  16.351 | pearsonloss:   0.851 | total_loss:   0.868 | bce:   0.009\n",
      "Epoch [ 3/25] ################---- [400/500] mse:  32.732 | pearsonloss:   0.732 | total_loss:   0.763 | bce:   0.015\n",
      "Epoch [ 3/25] ##################-- [450/500] mse:  17.338 | pearsonloss:   0.854 | total_loss:   0.869 | bce:   0.006\n",
      "Epoch [ 3/25] #################### [499/500] mse:  57.868 | pearsonloss:   0.031 | total_loss:   0.180 | bce:   0.119\n",
      "\u001b[33mEpoch [ 3/25] Time Taken: 1257.289s\u001b[0m\n",
      "Total train time: 1257.289\tFor time: 1224.624\tBack time: 6.246\tPrint time: 23.011\tRemain (data) time: 3.407\n",
      "Eval for 20 batches\n",
      "Inference -------------------- [ 0/20] \n",
      "Evaluating on 50000 points.\u001b[0m\n",
      "Evaluation result: mse:35.8568 | corrcoef: 0.2555 | bce: 0.1367 | recall: 0.0000 | specificity: 0.9983 | auroc: 0.1668\u001b[0m\n",
      "\u001b[33mEvaluation time taken:  32.421s\u001b[0m\n",
      "\u001b[33mSaving model ckpt to ./trained_models_2020.06.09_20.11/epoch3_checkpoint.pth.tar...\u001b[0m\n",
      "Num_batches 500; rank 0, gpu 0\n",
      "Epoch [ 4/25] -------------------- [  0/500] mse: 157.508 | pearsonloss:   0.023 | total_loss:   0.472 | bce:   0.371\n",
      "Epoch [ 4/25] ##------------------ [ 50/500] mse:   4.262 | pearsonloss:   0.760 | total_loss:   0.770 | bce:   0.007\n",
      "Epoch [ 4/25] ####---------------- [100/500] mse:  20.486 | pearsonloss:   0.004 | total_loss:   0.020 | bce:   0.006\n",
      "Epoch [ 4/25] ######-------------- [150/500] mse:  15.003 | pearsonloss:   0.761 | total_loss:   0.779 | bce:   0.011\n",
      "Epoch [ 4/25] ########------------ [200/500] mse: 312.716 | pearsonloss:   0.010 | total_loss:   0.175 | bce:   0.008\n",
      "Epoch [ 4/25] ##########---------- [250/500] mse:  13.624 | pearsonloss:   0.756 | total_loss:   0.776 | bce:   0.013\n",
      "Epoch [ 4/25] ############-------- [300/500] mse:  15.270 | pearsonloss:   0.003 | total_loss:   0.016 | bce:   0.005\n",
      "Epoch [ 4/25] ##############------ [350/500] mse:  15.595 | pearsonloss:   0.767 | total_loss:   0.784 | bce:   0.009\n",
      "Epoch [ 4/25] ################---- [400/500] mse:  20.741 | pearsonloss:   0.004 | total_loss:   0.020 | bce:   0.006\n",
      "Epoch [ 4/25] ##################-- [450/500] mse:   0.537 | pearsonloss:   0.724 | total_loss:   0.728 | bce:   0.004\n",
      "Epoch [ 4/25] #################### [499/500] mse: 105.926 | pearsonloss:   0.022 | total_loss:   0.090 | bce:   0.015\n",
      "\u001b[33mEpoch [ 4/25] Time Taken: 1240.585s\u001b[0m\n",
      "Total train time: 1240.585\tFor time: 1206.466\tBack time: 6.524\tPrint time: 22.690\tRemain (data) time: 4.905\n",
      "Eval for 20 batches\n",
      "Inference -------------------- [ 0/20] \n",
      "Evaluating on 50000 points.\u001b[0m\n",
      "Evaluation result: mse:88.6188 | corrcoef: 0.2279 | bce: 0.0923 | recall: 0.2838 | specificity: 0.9895 | auroc: 0.7010\u001b[0m\n",
      "\u001b[33mEvaluation time taken:  32.059s\u001b[0m\n",
      "\u001b[33mSaving model ckpt to ./trained_models_2020.06.09_20.11/epoch4_checkpoint.pth.tar...\u001b[0m\n",
      "Num_batches 500; rank 0, gpu 0\n",
      "Epoch [ 5/25] -------------------- [  0/500] mse:1039.233 | pearsonloss:   0.154 | total_loss:   0.881 | bce:   0.207\n",
      "Epoch [ 5/25] ##------------------ [ 50/500] mse:  54.923 | pearsonloss:   0.105 | total_loss:   0.197 | bce:   0.065\n",
      "Epoch [ 5/25] ####---------------- [100/500] mse:  86.965 | pearsonloss:   0.022 | total_loss:   0.129 | bce:   0.064\n",
      "Epoch [ 5/25] ######-------------- [150/500] mse:  39.328 | pearsonloss:   0.087 | total_loss:   0.147 | bce:   0.041\n",
      "Epoch [ 5/25] ########------------ [200/500] mse:  68.256 | pearsonloss:   0.018 | total_loss:   0.141 | bce:   0.089\n",
      "Epoch [ 5/25] ##########---------- [250/500] mse:  24.933 | pearsonloss:   0.053 | total_loss:   0.090 | bce:   0.025\n",
      "Epoch [ 5/25] ############-------- [300/500] mse:  57.545 | pearsonloss:   0.013 | total_loss:   0.090 | bce:   0.048\n",
      "Epoch [ 5/25] ##############------ [350/500] mse:   6.269 | pearsonloss:   0.013 | total_loss:   0.030 | bce:   0.014\n",
      "Epoch [ 5/25] ################---- [400/500] mse:  34.592 | pearsonloss:   0.009 | total_loss:   0.063 | bce:   0.037\n",
      "Epoch [ 5/25] ##################-- [450/500] mse:   5.418 | pearsonloss:   0.012 | total_loss:   0.027 | bce:   0.012\n",
      "Epoch [ 5/25] #################### [499/500] mse:  34.932 | pearsonloss:   0.514 | total_loss:   0.655 | bce:   0.123\n",
      "\u001b[33mEpoch [ 5/25] Time Taken: 1248.695s\u001b[0m\n",
      "Total train time: 1248.695\tFor time: 1216.680\tBack time: 6.487\tPrint time: 23.018\tRemain (data) time: 2.510\n",
      "Eval for 20 batches\n",
      "Inference -------------------- [ 0/20] \n",
      "Evaluating on 50000 points.\u001b[0m\n",
      "Evaluation result: mse:35.0923 | corrcoef: 0.2146 | bce: 0.1126 | recall: 0.2099 | specificity: 0.9830 | auroc: 0.6663\u001b[0m\n",
      "\u001b[33mEvaluation time taken:  33.678s\u001b[0m\n",
      "\u001b[33mSaving model ckpt to ./trained_models_2020.06.09_20.11/epoch5_checkpoint.pth.tar...\u001b[0m\n",
      "Num_batches 500; rank 0, gpu 0\n",
      "Epoch [ 6/25] -------------------- [  0/500] mse:   5.260 | pearsonloss:   0.077 | total_loss:   0.091 | bce:   0.011\n",
      "Epoch [ 6/25] ##------------------ [ 50/500] mse:   0.622 | pearsonloss:   0.915 | total_loss:   0.924 | bce:   0.008\n",
      "Epoch [ 6/25] ####---------------- [100/500] mse:  14.667 | pearsonloss:   0.224 | total_loss:   0.273 | bce:   0.042\n",
      "Epoch [ 6/25] ######-------------- [150/500] mse:   7.012 | pearsonloss:   0.900 | total_loss:   0.920 | bce:   0.016\n",
      "Epoch [ 6/25] ########------------ [200/500] mse:   8.931 | pearsonloss:   0.136 | total_loss:   0.160 | bce:   0.019\n",
      "Epoch [ 6/25] ##########---------- [250/500] mse:   5.292 | pearsonloss:   0.902 | total_loss:   0.917 | bce:   0.012\n",
      "Epoch [ 6/25] ############-------- [300/500] mse:   6.493 | pearsonloss:   0.108 | total_loss:   0.128 | bce:   0.017\n",
      "Epoch [ 6/25] ##############------ [350/500] mse:   3.926 | pearsonloss:   0.901 | total_loss:   0.914 | bce:   0.011\n",
      "Epoch [ 6/25] ################---- [400/500] mse:   4.487 | pearsonloss:   0.083 | total_loss:   0.099 | bce:   0.014\n",
      "Epoch [ 6/25] ##################-- [450/500] mse:   2.602 | pearsonloss:   0.903 | total_loss:   0.914 | bce:   0.010\n",
      "Epoch [ 6/25] #################### [499/500] mse: 144.642 | pearsonloss:   0.002 | total_loss:   0.199 | bce:   0.125\n",
      "\u001b[33mEpoch [ 6/25] Time Taken: 1245.499s\u001b[0m\n",
      "Total train time: 1245.500\tFor time: 1213.077\tBack time: 6.432\tPrint time: 22.755\tRemain (data) time: 3.235\n",
      "Eval for 20 batches\n",
      "Inference -------------------- [ 0/20] \n",
      "Evaluating on 50000 points.\u001b[0m\n",
      "Evaluation result: mse:18.1592 | corrcoef: 0.5614 | bce: 0.0571 | recall: 0.2003 | specificity: 0.9937 | auroc: 0.8847\u001b[0m\n",
      "\u001b[33mEvaluation time taken:  33.100s\u001b[0m\n",
      "\u001b[33mSaving model ckpt to ./trained_models_2020.06.09_20.11/epoch6_checkpoint.pth.tar...\u001b[0m\n",
      "Num_batches 500; rank 0, gpu 0\n",
      "Epoch [ 7/25] -------------------- [  0/500] mse:   1.904 | pearsonloss:   0.938 | total_loss:   0.948 | bce:   0.009\n",
      "Epoch [ 7/25] ##------------------ [ 50/500] mse:  20.378 | pearsonloss:   0.504 | total_loss:   0.598 | bce:   0.085\n",
      "Epoch [ 7/25] ####---------------- [100/500] mse:   2.719 | pearsonloss:   0.946 | total_loss:   0.954 | bce:   0.006\n",
      "Epoch [ 7/25] ######-------------- [150/500] mse:  16.079 | pearsonloss:   0.439 | total_loss:   0.527 | bce:   0.080\n",
      "Epoch [ 7/25] ########------------ [200/500] mse:   1.684 | pearsonloss:   0.950 | total_loss:   0.956 | bce:   0.006\n",
      "Epoch [ 7/25] ##########---------- [250/500] mse:  16.335 | pearsonloss:   0.328 | total_loss:   0.465 | bce:   0.128\n",
      "Epoch [ 7/25] ############-------- [300/500] mse:   0.824 | pearsonloss:   0.953 | total_loss:   0.960 | bce:   0.006\n",
      "Epoch [ 7/25] ##############------ [350/500] mse:  18.166 | pearsonloss:   0.165 | total_loss:   0.240 | bce:   0.066\n",
      "Epoch [ 7/25] ################---- [400/500] mse:   0.763 | pearsonloss:   0.942 | total_loss:   0.948 | bce:   0.005\n",
      "Epoch [ 7/25] ##################-- [450/500] mse:  17.200 | pearsonloss:   0.131 | total_loss:   0.199 | bce:   0.059\n",
      "Epoch [ 7/25] #################### [499/500] mse:   7.942 | pearsonloss:   0.157 | total_loss:   0.206 | bce:   0.045\n",
      "\u001b[33mEpoch [ 7/25] Time Taken: 1240.826s\u001b[0m\n",
      "Total train time: 1240.826\tFor time: 1208.767\tBack time: 6.611\tPrint time: 22.816\tRemain (data) time: 2.632\n",
      "Eval for 20 batches\n",
      "Inference -------------------- [ 0/20] \n",
      "Evaluating on 50000 points.\u001b[0m\n",
      "Evaluation result: mse:13.6295 | corrcoef: 0.3834 | bce: 0.0578 | recall: 0.0408 | specificity: 0.9984 | auroc: 0.9290\u001b[0m\n",
      "\u001b[33mEvaluation time taken:  32.556s\u001b[0m\n",
      "\u001b[33mSaving model ckpt to ./trained_models_2020.06.09_20.11/epoch7_checkpoint.pth.tar...\u001b[0m\n",
      "Num_batches 500; rank 0, gpu 0\n",
      "Epoch [ 8/25] -------------------- [  0/500] mse:  21.536 | pearsonloss:   0.691 | total_loss:   0.822 | bce:   0.120\n",
      "Epoch [ 8/25] ##------------------ [ 50/500] mse: 688.930 | pearsonloss:   0.010 | total_loss:   0.602 | bce:   0.248\n",
      "Epoch [ 8/25] ####---------------- [100/500] mse:  58.289 | pearsonloss:   0.619 | total_loss:   0.738 | bce:   0.090\n",
      "Epoch [ 8/25] ######-------------- [150/500] mse: 313.440 | pearsonloss:   0.004 | total_loss:   0.315 | bce:   0.154\n",
      "Epoch [ 8/25] ########------------ [200/500] mse:  48.380 | pearsonloss:   0.613 | total_loss:   0.723 | bce:   0.086\n",
      "Epoch [ 8/25] ##########---------- [250/500] mse: 245.784 | pearsonloss:   0.003 | total_loss:   0.273 | bce:   0.147\n",
      "Epoch [ 8/25] ############-------- [300/500] mse:  44.297 | pearsonloss:   0.604 | total_loss:   0.711 | bce:   0.085\n",
      "Epoch [ 8/25] ##############------ [350/500] mse: 192.781 | pearsonloss:   0.003 | total_loss:   0.238 | bce:   0.139\n",
      "Epoch [ 8/25] ################---- [400/500] mse:  40.513 | pearsonloss:   0.597 | total_loss:   0.704 | bce:   0.087\n",
      "Epoch [ 8/25] ##################-- [450/500] mse: 158.454 | pearsonloss:   0.002 | total_loss:   0.217 | bce:   0.136\n",
      "Epoch [ 8/25] #################### [499/500] mse:  82.922 | pearsonloss:   0.137 | total_loss:   0.246 | bce:   0.068\n",
      "\u001b[33mEpoch [ 8/25] Time Taken: 1247.936s\u001b[0m\n",
      "Total train time: 1247.936\tFor time: 1216.074\tBack time: 6.484\tPrint time: 22.874\tRemain (data) time: 2.504\n",
      "Eval for 20 batches\n",
      "Inference -------------------- [ 0/20] \n",
      "Evaluating on 50000 points.\u001b[0m\n",
      "Evaluation result: mse:14.0920 | corrcoef: 0.4592 | bce: 0.0700 | recall: 0.3503 | specificity: 0.9968 | auroc: 0.6921\u001b[0m\n",
      "\u001b[33mEvaluation time taken:  32.681s\u001b[0m\n",
      "\u001b[33mSaving model ckpt to ./trained_models_2020.06.09_20.11/epoch8_checkpoint.pth.tar...\u001b[0m\n",
      "Num_batches 500; rank 0, gpu 0\n",
      "Epoch [ 9/25] -------------------- [  0/500] mse:  11.678 | pearsonloss:   0.849 | total_loss:   0.870 | bce:   0.015\n",
      "Epoch [ 9/25] ##------------------ [ 50/500] mse:   0.472 | pearsonloss:   0.791 | total_loss:   0.792 | bce:   0.001\n",
      "Epoch [ 9/25] ####---------------- [100/500] mse:   8.128 | pearsonloss:   0.846 | total_loss:   0.854 | bce:   0.004\n",
      "Epoch [ 9/25] ######-------------- [150/500] mse:   0.457 | pearsonloss:   0.757 | total_loss:   0.758 | bce:   0.001\n",
      "Epoch [ 9/25] ########------------ [200/500] mse:   6.076 | pearsonloss:   0.847 | total_loss:   0.852 | bce:   0.002\n",
      "Epoch [ 9/25] ##########---------- [250/500] mse:   0.454 | pearsonloss:   0.743 | total_loss:   0.743 | bce:   0.000\n",
      "Epoch [ 9/25] ############-------- [300/500] mse:   5.605 | pearsonloss:   0.846 | total_loss:   0.850 | bce:   0.001\n",
      "Epoch [ 9/25] ##############------ [350/500] mse:   0.450 | pearsonloss:   0.741 | total_loss:   0.741 | bce:   0.000\n",
      "Epoch [ 9/25] ################---- [400/500] mse:   5.062 | pearsonloss:   0.838 | total_loss:   0.843 | bce:   0.002\n",
      "Epoch [ 9/25] ##################-- [450/500] mse:   0.447 | pearsonloss:   0.740 | total_loss:   0.740 | bce:   0.000\n",
      "Epoch [ 9/25] #################### [499/500] mse:  31.674 | pearsonloss:   0.002 | total_loss:   0.025 | bce:   0.007\n",
      "\u001b[33mEpoch [ 9/25] Time Taken: 1238.300s\u001b[0m\n",
      "Total train time: 1238.300\tFor time: 1205.539\tBack time: 6.642\tPrint time: 22.649\tRemain (data) time: 3.470\n",
      "Eval for 20 batches\n",
      "Inference -------------------- [ 0/20] \n",
      "Evaluating on 50000 points.\u001b[0m\n",
      "Evaluation result: mse:13.8242 | corrcoef: 0.2923 | bce: 0.1403 | recall: 0.0000 | specificity: 0.9944 | auroc: 0.9612\u001b[0m\n",
      "\u001b[33mEvaluation time taken:  32.400s\u001b[0m\n",
      "\u001b[33mSaving model ckpt to ./trained_models_2020.06.09_20.11/epoch9_checkpoint.pth.tar...\u001b[0m\n",
      "Num_batches 500; rank 0, gpu 0\n",
      "Epoch [10/25] -------------------- [  0/500] mse:   0.770 | pearsonloss:   0.700 | total_loss:   0.700 | bce:   0.000\n",
      "Epoch [10/25] ##------------------ [ 50/500] mse:   3.795 | pearsonloss:   0.954 | total_loss:   0.965 | bce:   0.009\n",
      "Epoch [10/25] ####---------------- [100/500] mse:   0.610 | pearsonloss:   0.512 | total_loss:   0.519 | bce:   0.007\n",
      "Epoch [10/25] ######-------------- [150/500] mse:   0.915 | pearsonloss:   0.836 | total_loss:   0.839 | bce:   0.003\n",
      "Epoch [10/25] ########------------ [200/500] mse:   0.573 | pearsonloss:   0.497 | total_loss:   0.503 | bce:   0.006\n",
      "Epoch [10/25] ##########---------- [250/500] mse:   0.742 | pearsonloss:   0.835 | total_loss:   0.837 | bce:   0.003\n",
      "Epoch [10/25] ############-------- [300/500] mse:   0.573 | pearsonloss:   0.495 | total_loss:   0.501 | bce:   0.006\n",
      "Epoch [10/25] ##############------ [350/500] mse:   0.667 | pearsonloss:   0.834 | total_loss:   0.837 | bce:   0.003\n",
      "Epoch [10/25] ################---- [400/500] mse:   0.590 | pearsonloss:   0.494 | total_loss:   0.499 | bce:   0.005\n",
      "Epoch [10/25] ##################-- [450/500] mse:   0.583 | pearsonloss:   0.834 | total_loss:   0.837 | bce:   0.002\n",
      "Epoch [10/25] #################### [499/500] mse:   4.522 | pearsonloss:   0.966 | total_loss:   1.001 | bce:   0.033\n",
      "\u001b[33mEpoch [10/25] Time Taken: 1235.157s\u001b[0m\n",
      "Total train time: 1235.158\tFor time: 1203.373\tBack time: 6.533\tPrint time: 22.641\tRemain (data) time: 2.611\n",
      "Eval for 20 batches\n",
      "Inference -------------------- [ 0/20] \n",
      "Evaluating on 50000 points.\u001b[0m\n",
      "Evaluation result: mse:16.3736 | corrcoef: 0.1623 | bce: 0.1431 | recall: 0.0048 | specificity: 0.9970 | auroc: 0.3601\u001b[0m\n",
      "\u001b[33mEvaluation time taken:  32.785s\u001b[0m\n",
      "\u001b[33mSaving model ckpt to ./trained_models_2020.06.09_20.11/epoch10_checkpoint.pth.tar...\u001b[0m\n",
      "Num_batches 500; rank 0, gpu 0\n",
      "Epoch [11/25] -------------------- [  0/500] mse: 123.994 | pearsonloss:   0.487 | total_loss:   0.802 | bce:   0.254\n",
      "Epoch [11/25] ##------------------ [ 50/500] mse:   3.255 | pearsonloss:   0.748 | total_loss:   0.770 | bce:   0.021\n",
      "Epoch [11/25] ####---------------- [100/500] mse:  23.564 | pearsonloss:   0.064 | total_loss:   0.157 | bce:   0.082\n",
      "Epoch [11/25] ######-------------- [150/500] mse:   1.564 | pearsonloss:   0.733 | total_loss:   0.742 | bce:   0.008\n",
      "Epoch [11/25] ########------------ [200/500] mse:  23.306 | pearsonloss:   0.050 | total_loss:   0.113 | bce:   0.052\n",
      "Epoch [11/25] ##########---------- [250/500] mse:   1.652 | pearsonloss:   0.721 | total_loss:   0.725 | bce:   0.004\n",
      "Epoch [11/25] ############-------- [300/500] mse:  14.646 | pearsonloss:   0.039 | total_loss:   0.090 | bce:   0.044\n",
      "Epoch [11/25] ##############------ [350/500] mse:   1.619 | pearsonloss:   0.721 | total_loss:   0.725 | bce:   0.004\n",
      "Epoch [11/25] ################---- [400/500] mse:  20.232 | pearsonloss:   0.041 | total_loss:   0.109 | bce:   0.058\n",
      "Epoch [11/25] ##################-- [450/500] mse:   1.739 | pearsonloss:   0.714 | total_loss:   0.717 | bce:   0.003\n",
      "Epoch [11/25] #################### [499/500] mse:   0.330 | pearsonloss:   0.681 | total_loss:   0.683 | bce:   0.002\n",
      "\u001b[33mEpoch [11/25] Time Taken: 1249.620s\u001b[0m\n",
      "Total train time: 1249.620\tFor time: 1217.419\tBack time: 6.552\tPrint time: 22.794\tRemain (data) time: 2.855\n",
      "Eval for 20 batches\n",
      "Inference -------------------- [ 0/20] \n",
      "Evaluating on 50000 points.\u001b[0m\n",
      "Evaluation result: mse:11.4522 | corrcoef: 0.4854 | bce: 0.0760 | recall: 0.4080 | specificity: 0.9962 | auroc: 0.7656\u001b[0m\n",
      "\u001b[33mEvaluation time taken:  32.751s\u001b[0m\n",
      "\u001b[33mSaving model ckpt to ./trained_models_2020.06.09_20.11/epoch11_checkpoint.pth.tar...\u001b[0m\n",
      "Num_batches 500; rank 0, gpu 0\n",
      "Epoch [12/25] -------------------- [  0/500] mse:   1.622 | pearsonloss:   0.796 | total_loss:   0.837 | bce:   0.040\n",
      "Epoch [12/25] ##------------------ [ 50/500] mse:   5.120 | pearsonloss:   0.919 | total_loss:   0.973 | bce:   0.051\n",
      "Epoch [12/25] ####---------------- [100/500] mse:   0.548 | pearsonloss:   0.123 | total_loss:   0.135 | bce:   0.012\n",
      "Epoch [12/25] ######-------------- [150/500] mse:   4.909 | pearsonloss:   0.900 | total_loss:   0.950 | bce:   0.048\n",
      "Epoch [12/25] ########------------ [200/500] mse:   0.410 | pearsonloss:   0.120 | total_loss:   0.128 | bce:   0.008\n",
      "Epoch [12/25] ##########---------- [250/500] mse:   4.768 | pearsonloss:   0.874 | total_loss:   0.923 | bce:   0.047\n",
      "Epoch [12/25] ############-------- [300/500] mse:   0.450 | pearsonloss:   0.120 | total_loss:   0.126 | bce:   0.006\n",
      "Epoch [12/25] ##############------ [350/500] mse:   4.756 | pearsonloss:   0.869 | total_loss:   0.918 | bce:   0.047\n",
      "Epoch [12/25] ################---- [400/500] mse:   0.468 | pearsonloss:   0.119 | total_loss:   0.126 | bce:   0.006\n",
      "Epoch [12/25] ##################-- [450/500] mse:   4.761 | pearsonloss:   0.872 | total_loss:   0.921 | bce:   0.047\n",
      "Epoch [12/25] #################### [499/500] mse:  34.614 | pearsonloss:   0.017 | total_loss:   0.041 | bce:   0.006\n",
      "\u001b[33mEpoch [12/25] Time Taken: 1240.986s\u001b[0m\n",
      "Total train time: 1240.986\tFor time: 1208.699\tBack time: 6.416\tPrint time: 22.666\tRemain (data) time: 3.206\n",
      "Eval for 20 batches\n",
      "Inference -------------------- [ 0/20] \n",
      "Evaluating on 50000 points.\u001b[0m\n",
      "Evaluation result: mse:51.8917 | corrcoef: 0.1905 | bce: 0.2346 | recall: 0.2608 | specificity: 0.9838 | auroc: 0.6710\u001b[0m\n",
      "\u001b[33mEvaluation time taken:  32.199s\u001b[0m\n",
      "\u001b[33mSaving model ckpt to ./trained_models_2020.06.09_20.11/epoch12_checkpoint.pth.tar...\u001b[0m\n",
      "Num_batches 500; rank 0, gpu 0\n",
      "Epoch [13/25] -------------------- [  0/500] mse:4052.153 | pearsonloss:   0.441 | total_loss:   3.738 | bce:   1.271\n",
      "Epoch [13/25] ##------------------ [ 50/500] mse:  33.269 | pearsonloss:   0.222 | total_loss:   0.313 | bce:   0.074\n",
      "Epoch [13/25] ####---------------- [100/500] mse: 290.747 | pearsonloss:   0.029 | total_loss:   0.392 | bce:   0.218\n",
      "Epoch [13/25] ######-------------- [150/500] mse:  24.648 | pearsonloss:   0.108 | total_loss:   0.163 | bce:   0.042\n",
      "Epoch [13/25] ########------------ [200/500] mse: 212.170 | pearsonloss:   0.021 | total_loss:   0.303 | bce:   0.176\n",
      "Epoch [13/25] ##########---------- [250/500] mse:  26.750 | pearsonloss:   0.115 | total_loss:   0.162 | bce:   0.033\n",
      "Epoch [13/25] ############-------- [300/500] mse: 258.906 | pearsonloss:   0.026 | total_loss:   0.388 | bce:   0.233\n",
      "Epoch [13/25] ##############------ [350/500] mse:  18.789 | pearsonloss:   0.103 | total_loss:   0.148 | bce:   0.035\n",
      "Epoch [13/25] ################---- [400/500] mse: 122.605 | pearsonloss:   0.011 | total_loss:   0.200 | bce:   0.127\n",
      "Epoch [13/25] ##################-- [450/500] mse:  23.379 | pearsonloss:   0.113 | total_loss:   0.155 | bce:   0.029\n",
      "Epoch [13/25] #################### [499/500] mse:   0.405 | pearsonloss:   0.712 | total_loss:   0.716 | bce:   0.005\n",
      "\u001b[33mEpoch [13/25] Time Taken: 1252.509s\u001b[0m\n",
      "Total train time: 1252.509\tFor time: 1219.958\tBack time: 6.447\tPrint time: 23.148\tRemain (data) time: 2.956\n",
      "Eval for 20 batches\n",
      "Inference -------------------- [ 0/20] \n",
      "Evaluating on 50000 points.\u001b[0m\n",
      "Evaluation result: mse:18.4698 | corrcoef: 0.3370 | bce: 0.0527 | recall: 0.5146 | specificity: 0.9900 | auroc: 0.9569\u001b[0m\n",
      "\u001b[33mEvaluation time taken:  33.018s\u001b[0m\n",
      "\u001b[33mSaving model ckpt to ./trained_models_2020.06.09_20.11/epoch13_checkpoint.pth.tar...\u001b[0m\n",
      "Num_batches 500; rank 0, gpu 0\n",
      "Epoch [14/25] -------------------- [  0/500] mse:  54.853 | pearsonloss:   0.686 | total_loss:   0.837 | bce:   0.124\n",
      "Epoch [14/25] ##------------------ [ 50/500] mse: 188.511 | pearsonloss:   0.445 | total_loss:   0.589 | bce:   0.050\n",
      "Epoch [14/25] ####---------------- [100/500] mse:  40.759 | pearsonloss:   0.279 | total_loss:   0.362 | bce:   0.062\n",
      "Epoch [14/25] ######-------------- [150/500] mse: 186.718 | pearsonloss:   0.442 | total_loss:   0.581 | bce:   0.046\n",
      "Epoch [14/25] ########------------ [200/500] mse:  33.303 | pearsonloss:   0.315 | total_loss:   0.380 | bce:   0.048\n",
      "Epoch [14/25] ##########---------- [250/500] mse: 166.625 | pearsonloss:   0.379 | total_loss:   0.492 | bce:   0.030\n",
      "Epoch [14/25] ############-------- [300/500] mse:  25.086 | pearsonloss:   0.215 | total_loss:   0.265 | bce:   0.038\n",
      "Epoch [14/25] ##############------ [350/500] mse:  66.274 | pearsonloss:   0.107 | total_loss:   0.158 | bce:   0.018\n",
      "Epoch [14/25] ################---- [400/500] mse:  44.191 | pearsonloss:   0.373 | total_loss:   0.479 | bce:   0.084\n",
      "Epoch [14/25] ##################-- [450/500] mse:  60.275 | pearsonloss:   0.112 | total_loss:   0.167 | bce:   0.025\n",
      "Epoch [14/25] #################### [499/500] mse:   1.217 | pearsonloss:   0.527 | total_loss:   0.529 | bce:   0.001\n",
      "\u001b[33mEpoch [14/25] Time Taken: 1243.897s\u001b[0m\n",
      "Total train time: 1243.897\tFor time: 1210.684\tBack time: 6.619\tPrint time: 22.949\tRemain (data) time: 3.645\n",
      "Eval for 20 batches\n",
      "Inference -------------------- [ 0/20] \n",
      "Evaluating on 50000 points.\u001b[0m\n",
      "Evaluation result: mse:14.5937 | corrcoef: 0.3363 | bce: 0.0601 | recall: 0.0245 | specificity: 0.9966 | auroc: 0.8806\u001b[0m\n",
      "\u001b[33mEvaluation time taken:  32.560s\u001b[0m\n",
      "\u001b[33mSaving model ckpt to ./trained_models_2020.06.09_20.11/epoch14_checkpoint.pth.tar...\u001b[0m\n",
      "Num_batches 500; rank 0, gpu 0\n",
      "Epoch [15/25] -------------------- [  0/500] mse:   0.218 | pearsonloss:   0.906 | total_loss:   0.908 | bce:   0.001\n",
      "Epoch [15/25] ##------------------ [ 50/500] mse:   4.308 | pearsonloss:   0.927 | total_loss:   0.934 | bce:   0.005\n",
      "Epoch [15/25] ####---------------- [100/500] mse:   0.204 | pearsonloss:   0.739 | total_loss:   0.743 | bce:   0.004\n",
      "Epoch [15/25] ######-------------- [150/500] mse:   4.260 | pearsonloss:   0.936 | total_loss:   0.946 | bce:   0.007\n",
      "Epoch [15/25] ########------------ [200/500] mse:   0.155 | pearsonloss:   0.674 | total_loss:   0.678 | bce:   0.005\n",
      "Epoch [15/25] ##########---------- [250/500] mse:   4.061 | pearsonloss:   0.932 | total_loss:   0.940 | bce:   0.006\n",
      "Epoch [15/25] ############-------- [300/500] mse:   0.165 | pearsonloss:   0.672 | total_loss:   0.677 | bce:   0.005\n",
      "Epoch [15/25] ##############------ [350/500] mse:   4.102 | pearsonloss:   0.927 | total_loss:   0.933 | bce:   0.004\n",
      "Epoch [15/25] ################---- [400/500] mse:   0.161 | pearsonloss:   0.670 | total_loss:   0.675 | bce:   0.005\n",
      "Epoch [15/25] ##################-- [450/500] mse:   4.045 | pearsonloss:   0.924 | total_loss:   0.930 | bce:   0.004\n",
      "Epoch [15/25] #################### [499/500] mse:  43.645 | pearsonloss:   0.095 | total_loss:   0.178 | bce:   0.061\n",
      "\u001b[33mEpoch [15/25] Time Taken: 1243.180s\u001b[0m\n",
      "Total train time: 1243.181\tFor time: 1210.602\tBack time: 6.532\tPrint time: 22.623\tRemain (data) time: 3.424\n",
      "Eval for 20 batches\n",
      "Inference -------------------- [ 0/20] \n",
      "Evaluating on 50000 points.\u001b[0m\n",
      "Evaluation result: mse:12.2223 | corrcoef: 0.4378 | bce: 0.0822 | recall: 0.3127 | specificity: 0.9936 | auroc: 0.7251\u001b[0m\n",
      "\u001b[33mEvaluation time taken:  34.133s\u001b[0m\n",
      "\u001b[33mSaving model ckpt to ./trained_models_2020.06.09_20.11/epoch15_checkpoint.pth.tar...\u001b[0m\n",
      "Num_batches 500; rank 0, gpu 0\n",
      "Epoch [16/25] -------------------- [  0/500] mse:   1.554 | pearsonloss:   0.645 | total_loss:   0.651 | bce:   0.005\n",
      "Epoch [16/25] ##------------------ [ 50/500] mse:   0.309 | pearsonloss:   0.865 | total_loss:   0.865 | bce:   0.000\n",
      "Epoch [16/25] ####---------------- [100/500] mse:   1.014 | pearsonloss:   0.418 | total_loss:   0.419 | bce:   0.000\n",
      "Epoch [16/25] ######-------------- [150/500] mse:   0.283 | pearsonloss:   0.844 | total_loss:   0.845 | bce:   0.000\n",
      "Epoch [16/25] ########------------ [200/500] mse:   0.929 | pearsonloss:   0.318 | total_loss:   0.318 | bce:   0.000\n",
      "Epoch [16/25] ##########---------- [250/500] mse:   0.282 | pearsonloss:   0.847 | total_loss:   0.847 | bce:   0.000\n",
      "Epoch [16/25] ############-------- [300/500] mse:   1.099 | pearsonloss:   0.286 | total_loss:   0.287 | bce:   0.000\n",
      "Epoch [16/25] ##############------ [350/500] mse:   0.282 | pearsonloss:   0.843 | total_loss:   0.843 | bce:   0.000\n",
      "Epoch [16/25] ################---- [400/500] mse:   1.159 | pearsonloss:   0.291 | total_loss:   0.292 | bce:   0.000\n",
      "Epoch [16/25] ##################-- [450/500] mse:   0.284 | pearsonloss:   0.862 | total_loss:   0.863 | bce:   0.000\n",
      "Epoch [16/25] #################### [499/500] mse:   0.268 | pearsonloss:   0.717 | total_loss:   0.717 | bce:   0.000\n",
      "\u001b[33mEpoch [16/25] Time Taken: 1235.513s\u001b[0m\n",
      "Total train time: 1235.513\tFor time: 1203.665\tBack time: 6.141\tPrint time: 22.651\tRemain (data) time: 3.056\n",
      "Eval for 20 batches\n",
      "Inference -------------------- [ 0/20] \n",
      "Evaluating on 50000 points.\u001b[0m\n",
      "Evaluation result: mse:13.1826 | corrcoef: 0.3707 | bce: 0.1183 | recall: 0.0697 | specificity: 0.9998 | auroc: 0.8092\u001b[0m\n",
      "\u001b[33mEvaluation time taken:  32.756s\u001b[0m\n",
      "\u001b[33mSaving model ckpt to ./trained_models_2020.06.09_20.11/epoch16_checkpoint.pth.tar...\u001b[0m\n",
      "Num_batches 500; rank 0, gpu 0\n",
      "Epoch [17/25] -------------------- [  0/500] mse:   0.357 | pearsonloss:   0.845 | total_loss:   0.845 | bce:   0.000\n",
      "Epoch [17/25] ##------------------ [ 50/500] mse: 187.100 | pearsonloss:   0.047 | total_loss:   0.308 | bce:   0.167\n",
      "Epoch [17/25] ####---------------- [100/500] mse:   2.551 | pearsonloss:   0.790 | total_loss:   0.801 | bce:   0.010\n",
      "Epoch [17/25] ######-------------- [150/500] mse: 101.342 | pearsonloss:   0.027 | total_loss:   0.214 | bce:   0.136\n",
      "Epoch [17/25] ########------------ [200/500] mse:   2.698 | pearsonloss:   0.788 | total_loss:   0.798 | bce:   0.009\n",
      "Epoch [17/25] ##########---------- [250/500] mse:  74.455 | pearsonloss:   0.018 | total_loss:   0.187 | bce:   0.131\n",
      "Epoch [17/25] ############-------- [300/500] mse:   2.340 | pearsonloss:   0.785 | total_loss:   0.795 | bce:   0.008\n",
      "Epoch [17/25] ##############------ [350/500] mse:  70.158 | pearsonloss:   0.020 | total_loss:   0.191 | bce:   0.135\n",
      "Epoch [17/25] ################---- [400/500] mse:   2.273 | pearsonloss:   0.782 | total_loss:   0.791 | bce:   0.007\n",
      "Epoch [17/25] ##################-- [450/500] mse:  60.760 | pearsonloss:   0.014 | total_loss:   0.162 | bce:   0.118\n",
      "Epoch [17/25] #################### [499/500] mse:  50.379 | pearsonloss:   0.012 | total_loss:   0.072 | bce:   0.034\n",
      "\u001b[33mEpoch [17/25] Time Taken: 1250.313s\u001b[0m\n",
      "Total train time: 1250.313\tFor time: 1215.859\tBack time: 6.454\tPrint time: 22.883\tRemain (data) time: 5.117\n",
      "Eval for 20 batches\n",
      "Inference -------------------- [ 0/20] \n",
      "Evaluating on 50000 points.\u001b[0m\n",
      "Evaluation result: mse:18.9932 | corrcoef: 0.5443 | bce: 0.1368 | recall: 0.5357 | specificity: 0.9816 | auroc: 0.9431\u001b[0m\n",
      "\u001b[33mEvaluation time taken:  32.554s\u001b[0m\n",
      "\u001b[33mSaving model ckpt to ./trained_models_2020.06.09_20.11/epoch17_checkpoint.pth.tar...\u001b[0m\n",
      "Num_batches 500; rank 0, gpu 0\n",
      "Epoch [18/25] -------------------- [  0/500] mse:1408.978 | pearsonloss:   0.268 | total_loss:   1.216 | bce:   0.244\n",
      "Epoch [18/25] ##------------------ [ 50/500] mse:  19.515 | pearsonloss:   0.037 | total_loss:   0.167 | bce:   0.121\n",
      "Epoch [18/25] ####---------------- [100/500] mse:  39.074 | pearsonloss:   0.031 | total_loss:   0.100 | bce:   0.049\n",
      "Epoch [18/25] ######-------------- [150/500] mse:  21.481 | pearsonloss:   0.032 | total_loss:   0.108 | bce:   0.065\n",
      "Epoch [18/25] ########------------ [200/500] mse: 128.702 | pearsonloss:   0.114 | total_loss:   0.267 | bce:   0.088\n",
      "Epoch [18/25] ##########---------- [250/500] mse:  18.183 | pearsonloss:   0.031 | total_loss:   0.109 | bce:   0.069\n",
      "Epoch [18/25] ############-------- [300/500] mse:  17.530 | pearsonloss:   0.013 | total_loss:   0.043 | bce:   0.020\n",
      "Epoch [18/25] ##############------ [350/500] mse:  19.648 | pearsonloss:   0.031 | total_loss:   0.087 | bce:   0.046\n",
      "Epoch [18/25] ################---- [400/500] mse:  16.671 | pearsonloss:   0.013 | total_loss:   0.036 | bce:   0.015\n",
      "Epoch [18/25] ##################-- [450/500] mse:  19.700 | pearsonloss:   0.029 | total_loss:   0.077 | bce:   0.038\n",
      "Epoch [18/25] #################### [499/500] mse: 264.867 | pearsonloss:   0.006 | total_loss:   0.142 | bce:   0.003\n",
      "\u001b[33mEpoch [18/25] Time Taken: 1243.677s\u001b[0m\n",
      "Total train time: 1243.678\tFor time: 1211.926\tBack time: 5.932\tPrint time: 22.871\tRemain (data) time: 2.948\n",
      "Eval for 20 batches\n",
      "Inference -------------------- [ 0/20] \n",
      "Evaluating on 50000 points.\u001b[0m\n",
      "Evaluation result: mse:13.4703 | corrcoef: 0.4877 | bce: 0.1810 | recall: 0.6054 | specificity: 0.9753 | auroc: 0.7921\u001b[0m\n",
      "\u001b[33mEvaluation time taken:  31.877s\u001b[0m\n",
      "\u001b[33mSaving model ckpt to ./trained_models_2020.06.09_20.11/epoch18_checkpoint.pth.tar...\u001b[0m\n",
      "Num_batches 500; rank 0, gpu 0\n",
      "Epoch [19/25] -------------------- [  0/500] mse:  44.085 | pearsonloss:   0.072 | total_loss:   0.107 | bce:   0.012\n",
      "Epoch [19/25] ##------------------ [ 50/500] mse:  10.859 | pearsonloss:   0.990 | total_loss:   1.053 | bce:   0.058\n",
      "Epoch [19/25] ####---------------- [100/500] mse:   5.641 | pearsonloss:   0.008 | total_loss:   0.015 | bce:   0.004\n",
      "Epoch [19/25] ######-------------- [150/500] mse:  10.495 | pearsonloss:   0.696 | total_loss:   0.764 | bce:   0.063\n",
      "Epoch [19/25] ########------------ [200/500] mse:   9.276 | pearsonloss:   0.015 | total_loss:   0.025 | bce:   0.006\n",
      "Epoch [19/25] ##########---------- [250/500] mse:  10.311 | pearsonloss:   0.032 | total_loss:   0.057 | bce:   0.020\n",
      "Epoch [19/25] ############-------- [300/500] mse:   2.775 | pearsonloss:   0.004 | total_loss:   0.009 | bce:   0.003\n",
      "Epoch [19/25] ##############------ [350/500] mse:  10.347 | pearsonloss:   0.025 | total_loss:   0.048 | bce:   0.017\n",
      "Epoch [19/25] ################---- [400/500] mse:   2.593 | pearsonloss:   0.004 | total_loss:   0.008 | bce:   0.002\n",
      "Epoch [19/25] ##################-- [450/500] mse:  10.349 | pearsonloss:   0.024 | total_loss:   0.045 | bce:   0.015\n",
      "Epoch [19/25] #################### [499/500] mse:   1.244 | pearsonloss:   0.687 | total_loss:   0.695 | bce:   0.008\n",
      "\u001b[33mEpoch [19/25] Time Taken: 1234.679s\u001b[0m\n",
      "Total train time: 1234.679\tFor time: 1202.010\tBack time: 5.614\tPrint time: 22.700\tRemain (data) time: 4.356\n",
      "Eval for 20 batches\n",
      "Inference -------------------- [ 0/20] \n",
      "Evaluating on 50000 points.\u001b[0m\n",
      "Evaluation result: mse:13.8032 | corrcoef: 0.3056 | bce: 0.1102 | recall: 0.0732 | specificity: 0.9975 | auroc: 0.5561\u001b[0m\n",
      "\u001b[33mEvaluation time taken:  32.128s\u001b[0m\n",
      "\u001b[33mSaving model ckpt to ./trained_models_2020.06.09_20.11/epoch19_checkpoint.pth.tar...\u001b[0m\n",
      "Num_batches 500; rank 0, gpu 0\n",
      "Epoch [20/25] -------------------- [  0/500] mse:   5.548 | pearsonloss:   0.508 | total_loss:   0.542 | bce:   0.031\n",
      "Epoch [20/25] ##------------------ [ 50/500] mse:5837.544 | pearsonloss:   0.045 | total_loss:   3.369 | bce:   0.405\n",
      "Epoch [20/25] ####---------------- [100/500] mse:  17.154 | pearsonloss:   0.189 | total_loss:   0.221 | bce:   0.024\n",
      "Epoch [20/25] ######-------------- [150/500] mse: 720.510 | pearsonloss:   0.024 | total_loss:   0.664 | bce:   0.280\n",
      "Epoch [20/25] ########------------ [200/500] mse:  15.835 | pearsonloss:   0.164 | total_loss:   0.191 | bce:   0.020\n",
      "Epoch [20/25] ##########---------- [250/500] mse: 541.927 | pearsonloss:   0.017 | total_loss:   0.516 | bce:   0.228\n",
      "Epoch [20/25] ############-------- [300/500] mse:  13.104 | pearsonloss:   0.154 | total_loss:   0.172 | bce:   0.012\n",
      "Epoch [20/25] ##############------ [350/500] mse: 441.957 | pearsonloss:   0.014 | total_loss:   0.388 | bce:   0.153\n",
      "Epoch [20/25] ################---- [400/500] mse:   4.773 | pearsonloss:   0.184 | total_loss:   0.197 | bce:   0.010\n",
      "Epoch [20/25] ##################-- [450/500] mse: 415.711 | pearsonloss:   0.013 | total_loss:   0.359 | bce:   0.138\n",
      "Epoch [20/25] #################### [499/500] mse:   4.705 | pearsonloss:   0.733 | total_loss:   0.745 | bce:   0.010\n",
      "\u001b[33mEpoch [20/25] Time Taken: 1243.645s\u001b[0m\n",
      "Total train time: 1243.646\tFor time: 1211.219\tBack time: 5.790\tPrint time: 22.916\tRemain (data) time: 3.721\n",
      "Eval for 20 batches\n",
      "Inference -------------------- [ 0/20] \n",
      "Evaluating on 50000 points.\u001b[0m\n",
      "Evaluation result: mse:25.7599 | corrcoef: 0.4800 | bce: 0.0863 | recall: 0.4016 | specificity: 0.9924 | auroc: 0.6126\u001b[0m\n",
      "\u001b[33mEvaluation time taken:  32.474s\u001b[0m\n",
      "\u001b[33mSaving model ckpt to ./trained_models_2020.06.09_20.11/epoch20_checkpoint.pth.tar...\u001b[0m\n",
      "Num_batches 500; rank 0, gpu 0\n",
      "Epoch [21/25] -------------------- [  0/500] mse:   1.627 | pearsonloss:   0.726 | total_loss:   0.735 | bce:   0.008\n",
      "Epoch [21/25] ##------------------ [ 50/500] mse:   3.156 | pearsonloss:   0.710 | total_loss:   0.714 | bce:   0.003\n",
      "Epoch [21/25] ####---------------- [100/500] mse:   0.206 | pearsonloss:   0.733 | total_loss:   0.734 | bce:   0.000\n",
      "Epoch [21/25] ######-------------- [150/500] mse:   1.838 | pearsonloss:   0.694 | total_loss:   0.695 | bce:   0.001\n",
      "Epoch [21/25] ########------------ [200/500] mse:   0.138 | pearsonloss:   0.731 | total_loss:   0.731 | bce:   0.000\n",
      "Epoch [21/25] ##########---------- [250/500] mse:   1.555 | pearsonloss:   0.691 | total_loss:   0.692 | bce:   0.001\n",
      "Epoch [21/25] ############-------- [300/500] mse:   0.113 | pearsonloss:   0.727 | total_loss:   0.727 | bce:   0.000\n",
      "Epoch [21/25] ##############------ [350/500] mse:   1.101 | pearsonloss:   0.496 | total_loss:   0.503 | bce:   0.006\n",
      "Epoch [21/25] ################---- [400/500] mse:   0.112 | pearsonloss:   0.639 | total_loss:   0.640 | bce:   0.001\n",
      "Epoch [21/25] ##################-- [450/500] mse:   1.375 | pearsonloss:   0.502 | total_loss:   0.506 | bce:   0.004\n",
      "Epoch [21/25] #################### [499/500] mse:   0.366 | pearsonloss:   0.703 | total_loss:   0.703 | bce:   0.000\n",
      "\u001b[33mEpoch [21/25] Time Taken: 1238.146s\u001b[0m\n",
      "Total train time: 1238.146\tFor time: 1206.900\tBack time: 5.540\tPrint time: 22.626\tRemain (data) time: 3.080\n",
      "Eval for 20 batches\n",
      "Inference -------------------- [ 0/20] \n",
      "Evaluating on 50000 points.\u001b[0m\n",
      "Evaluation result: mse:12.8957 | corrcoef: 0.3790 | bce: 0.1222 | recall: 0.1191 | specificity: 0.9996 | auroc: 0.8000\u001b[0m\n",
      "\u001b[33mEvaluation time taken:  32.841s\u001b[0m\n",
      "\u001b[33mSaving model ckpt to ./trained_models_2020.06.09_20.11/epoch21_checkpoint.pth.tar...\u001b[0m\n",
      "Num_batches 500; rank 0, gpu 0\n",
      "Epoch [22/25] -------------------- [  0/500] mse:   2.732 | pearsonloss:   0.532 | total_loss:   0.558 | bce:   0.025\n",
      "Epoch [22/25] ##------------------ [ 50/500] mse:   4.108 | pearsonloss:   0.110 | total_loss:   0.173 | bce:   0.061\n",
      "Epoch [22/25] ####---------------- [100/500] mse:  10.103 | pearsonloss:   0.296 | total_loss:   0.316 | bce:   0.016\n",
      "Epoch [22/25] ######-------------- [150/500] mse:   6.163 | pearsonloss:   0.074 | total_loss:   0.101 | bce:   0.024\n",
      "Epoch [22/25] ########------------ [200/500] mse:   3.808 | pearsonloss:   0.273 | total_loss:   0.291 | bce:   0.016\n",
      "Epoch [22/25] ##########---------- [250/500] mse:   6.409 | pearsonloss:   0.048 | total_loss:   0.070 | bce:   0.019\n",
      "Epoch [22/25] ############-------- [300/500] mse:   2.800 | pearsonloss:   0.242 | total_loss:   0.256 | bce:   0.013\n",
      "Epoch [22/25] ##############------ [350/500] mse:   6.993 | pearsonloss:   0.031 | total_loss:   0.046 | bce:   0.012\n",
      "Epoch [22/25] ################---- [400/500] mse:   3.080 | pearsonloss:   0.225 | total_loss:   0.237 | bce:   0.010\n",
      "Epoch [22/25] ##################-- [450/500] mse:   7.319 | pearsonloss:   0.032 | total_loss:   0.049 | bce:   0.013\n",
      "Epoch [22/25] #################### [499/500] mse:   0.224 | pearsonloss:   0.760 | total_loss:   0.761 | bce:   0.001\n",
      "\u001b[33mEpoch [22/25] Time Taken: 1245.493s\u001b[0m\n",
      "Total train time: 1245.493\tFor time: 1213.105\tBack time: 5.976\tPrint time: 22.891\tRemain (data) time: 3.521\n",
      "Eval for 20 batches\n",
      "Inference -------------------- [ 0/20] \n",
      "Evaluating on 50000 points.\u001b[0m\n",
      "Evaluation result: mse:12.6067 | corrcoef: 0.4137 | bce: 0.0604 | recall: 0.3029 | specificity: 0.9934 | auroc: 0.9278\u001b[0m\n",
      "\u001b[33mEvaluation time taken:  35.434s\u001b[0m\n",
      "\u001b[33mSaving model ckpt to ./trained_models_2020.06.09_20.11/epoch22_checkpoint.pth.tar...\u001b[0m\n",
      "Num_batches 500; rank 0, gpu 0\n",
      "Epoch [23/25] -------------------- [  0/500] mse: 455.544 | pearsonloss:   0.022 | total_loss:   0.372 | bce:   0.122\n",
      "Epoch [23/25] ##------------------ [ 50/500] mse:  10.790 | pearsonloss:   0.886 | total_loss:   0.949 | bce:   0.057\n",
      "Epoch [23/25] ####---------------- [100/500] mse:  54.176 | pearsonloss:   0.012 | total_loss:   0.055 | bce:   0.016\n",
      "Epoch [23/25] ######-------------- [150/500] mse:  10.721 | pearsonloss:   0.885 | total_loss:   0.943 | bce:   0.053\n",
      "Epoch [23/25] ########------------ [200/500] mse:  47.244 | pearsonloss:   0.010 | total_loss:   0.045 | bce:   0.011\n",
      "Epoch [23/25] ##########---------- [250/500] mse:  10.341 | pearsonloss:   0.868 | total_loss:   0.926 | bce:   0.052\n",
      "Epoch [23/25] ############-------- [300/500] mse:  38.613 | pearsonloss:   0.008 | total_loss:   0.034 | bce:   0.006\n",
      "Epoch [23/25] ##############------ [350/500] mse:   9.304 | pearsonloss:   0.803 | total_loss:   0.842 | bce:   0.034\n",
      "Epoch [23/25] ################---- [400/500] mse:  31.631 | pearsonloss:   0.007 | total_loss:   0.025 | bce:   0.003\n",
      "Epoch [23/25] ##################-- [450/500] mse:   8.547 | pearsonloss:   0.609 | total_loss:   0.645 | bce:   0.032\n",
      "Epoch [23/25] #################### [499/500] mse:   0.831 | pearsonloss:   0.095 | total_loss:   0.102 | bce:   0.006\n",
      "\u001b[33mEpoch [23/25] Time Taken: 1242.631s\u001b[0m\n",
      "Total train time: 1242.631\tFor time: 1210.308\tBack time: 6.162\tPrint time: 22.779\tRemain (data) time: 3.382\n",
      "Eval for 20 batches\n",
      "Inference -------------------- [ 0/20] \n",
      "Evaluating on 50000 points.\u001b[0m\n",
      "Evaluation result: mse:18.7028 | corrcoef: 0.2914 | bce: 0.1031 | recall: 0.5682 | specificity: 0.9793 | auroc: 0.9742\u001b[0m\n",
      "\u001b[33mEvaluation time taken:  35.497s\u001b[0m\n",
      "\u001b[33mSaving model ckpt to ./trained_models_2020.06.09_20.11/epoch23_checkpoint.pth.tar...\u001b[0m\n",
      "Num_batches 500; rank 0, gpu 0\n",
      "Epoch [24/25] -------------------- [  0/500] mse:  18.917 | pearsonloss:   1.009 | total_loss:   1.295 | bce:   0.277\n",
      "Epoch [24/25] ##------------------ [ 50/500] mse:  32.515 | pearsonloss:   0.160 | total_loss:   0.223 | bce:   0.047\n",
      "Epoch [24/25] ####---------------- [100/500] mse:  19.418 | pearsonloss:   0.991 | total_loss:   1.098 | bce:   0.097\n",
      "Epoch [24/25] ######-------------- [150/500] mse:  30.040 | pearsonloss:   0.158 | total_loss:   0.213 | bce:   0.040\n",
      "Epoch [24/25] ########------------ [200/500] mse:  19.199 | pearsonloss:   0.988 | total_loss:   1.095 | bce:   0.097\n",
      "Epoch [24/25] ##########---------- [250/500] mse:  29.892 | pearsonloss:   0.158 | total_loss:   0.212 | bce:   0.039\n",
      "Epoch [24/25] ############-------- [300/500] mse:  19.096 | pearsonloss:   0.985 | total_loss:   1.092 | bce:   0.097\n",
      "Epoch [24/25] ##############------ [350/500] mse:  29.821 | pearsonloss:   0.157 | total_loss:   0.211 | bce:   0.039\n",
      "Epoch [24/25] ################---- [400/500] mse:  18.998 | pearsonloss:   0.983 | total_loss:   1.090 | bce:   0.097\n",
      "Epoch [24/25] ##################-- [450/500] mse:  29.789 | pearsonloss:   0.157 | total_loss:   0.211 | bce:   0.039\n",
      "Epoch [24/25] #################### [499/500] mse:   8.676 | pearsonloss:   0.925 | total_loss:   0.970 | bce:   0.040\n",
      "\u001b[33mEpoch [24/25] Time Taken: 1232.107s\u001b[0m\n",
      "Total train time: 1232.107\tFor time: 1200.616\tBack time: 6.079\tPrint time: 22.586\tRemain (data) time: 2.826\n",
      "Eval for 20 batches\n",
      "Inference -------------------- [ 0/20] \n",
      "Evaluating on 50000 points.\u001b[0m\n",
      "Evaluation result: mse:16.6535 | corrcoef: 0.3655 | bce: 0.1359 | recall: 0.0605 | specificity: 0.9948 | auroc: 0.2289\u001b[0m\n",
      "\u001b[33mEvaluation time taken:  33.306s\u001b[0m\n",
      "\u001b[33mSaving model ckpt to ./trained_models_2020.06.09_20.11/epoch24_checkpoint.pth.tar...\u001b[0m\n",
      "Saving config file to ./train_config.yaml...\u001b[0m\n"
     ]
    }
   ],
   "source": [
    "!python $atacworks/scripts/main.py train \\\n",
    "        --config configs/train_config.yaml \\\n",
    "        --config_mparams configs/model_structure.yaml \\\n",
    "        --files_train Mono.50.2400.train.h5 \\\n",
    "        --val_files Mono.50.2400.val.h5"
   ]
  },
  {
   "cell_type": "markdown",
   "metadata": {},
   "source": [
    "This command trains a deep learning model using the supplied clean and noisy ATAC-seq data, for 5 epochs (5 full passes through the dataset). At the end of every epoch, the current state of the model is saved in the directory `trained_models_latest`, and the performance of the current model is measured on the validation set. At the end, out of the 5 saved models, the one with the best performance on the validation set is saved as `trained_models_latest/model_best.pth.tar`\n",
    "\n",
    "This model has learned a mapping from the 50-cell signal to the 2400-cell signal and peak calls. Given a new 50-cell ATAC-seq track, it can denoise the track and produce high-quality peak calls.\n",
    "\n",
    "See [Tutorial 2](tutorial2.md) for step-by-step instructions on how to apply this trained model to another dataset.\n",
    "\n",
    "To change any of the parameters for the deep learning model, you can edit the appropriate parameters in `configs/train_config.yaml` or `configs/model_structure.yaml` and run the command in step 7 above. Type `python $atacworks/scripts/main.py train --help` for an explanation of the parameters.\n",
    "\n",
    "Note: `train_config.yaml` is set up to use multiple GPUs. If you are using a single GPU, edit `train_config.yaml` to change the line `gpu: \"None\"` to read `gpu: 0`. \n",
    "\n",
    "## References\n",
    "(1) Lal, A., Chiang, Z.D., Yakovenko, N., Duarte, F.M., Israeli, J. and Buenrostro, J.D., 2019. AtacWorks: A deep convolutional neural network toolkit for epigenomics. BioRxiv, p.829481. (https://www.biorxiv.org/content/10.1101/829481v1)\n",
    "\n",
    "## Appendix 1: Training on multiple pairs of clean and noisy datasets\n",
    "\n",
    "If using multiple pairs of clean and noisy datasets for training, use steps 5 and 6 on each pair to create a training h5 file and a validation h5 file for each pair. Save all of the training h5 files into a single folder and all of the validation h5 files into another folder.\n",
    "\n",
    "Run step 7 as follows:"
   ]
  },
  {
   "cell_type": "code",
   "execution_count": null,
   "metadata": {},
   "outputs": [],
   "source": [
    "!python $atacworks/scripts/main.py train \\\n",
    "        --config configs/train_config.yaml \\\n",
    "        --config_mparams configs/model_structure.yaml \\\n",
    "        --files_train <path to folder containing all h5 files for training> \\\n",
    "        --val_files <path to folder containing all h5 files for validation>"
   ]
  },
  {
   "cell_type": "markdown",
   "metadata": {},
   "source": [
    "## Appendix 2: Reproducing the model reported in the AtacWorks preprint (Reference 1)\n",
    "\n",
    "In Section \"AtacWorks enhances ATAC-seq results from small numbers of single cells\" (also Supplementary Table 8), we report this experiment, although the model we use there is trained on more data.\n",
    "\n",
    "To download the exact model used in the paper, see [Tutorial 2](tutorial2.md).\n",
    "\n",
    "In order to train the same model reported in the paper, follow the following steps. \n",
    "- Download all the training data\n",
    "\n",
    "NOTE: Jupyter notebook uses `/bin/sh` by default which points to dash shell. Below commands need bash shell for execution. You can set this option : `NotebookApp.terminado_settings` in jupyter config file or through command line when launching jupyter lab. "
   ]
  },
  {
   "cell_type": "code",
   "execution_count": null,
   "metadata": {},
   "outputs": [],
   "source": [
    "!mkdir -p train_data/noisy_data\n",
    "%env cell_types=CD19 Mono\n",
    "%env subsamples=1 2 3 4 5\n",
    "!for cell_type in ${cell_types[*]}; do \\\n",
    "     for subsample in ${subsamples[*]}; do \\\n",
    "         wget -P train_data/noisy_data https://atacworks-paper.s3.us-east-2.amazonaws.com/dsc_atac_blood_cell_denoising_experiments/50_cells/train_data/noisy_data/dsc.$subsample.$cell_type.50.cutsites.smoothed.200.bw; \\\n",
    "     done; \\\n",
    "done"
   ]
  },
  {
   "cell_type": "code",
   "execution_count": null,
   "metadata": {},
   "outputs": [],
   "source": [
    "!mkdir -p train_data/clean_data"
   ]
  },
  {
   "cell_type": "code",
   "execution_count": null,
   "metadata": {},
   "outputs": [],
   "source": [
    "%env cell_types=CD19 Mono\n",
    "!for cell_type in ${cell_types[*]}; do \\\n",
    "     wget -P train_data/clean_data https://atacworks-paper.s3.us-east-2.amazonaws.com/dsc_atac_blood_cell_denoising_experiments/50_cells/train_data/clean_data/dsc.$cell_type.2400.cutsites.smoothed.200.bw; \\\n",
    "     wget -P train_data/clean_data https://atacworks-paper.s3.us-east-2.amazonaws.com/dsc_atac_blood_cell_denoising_experiments/50_cells/train_data/clean_data/dsc.$cell_type.2400.cutsites.smoothed.200.3.narrowPeak; \\\n",
    "done"
   ]
  },
  {
   "cell_type": "markdown",
   "metadata": {},
   "source": [
    "- Encode all the training data and save in the `train_h5` directory."
   ]
  },
  {
   "cell_type": "code",
   "execution_count": null,
   "metadata": {},
   "outputs": [],
   "source": [
    "%env cell_types = CD19 Mono\n",
    "!for cell_type in ${cell_types[*]}; do \\\n",
    "    python $atacworks/scripts/peak2bw.py \\\n",
    "        --input train_data/clean_data/dsc.$cell_type.2400.cutsites.smoothed.200.3.narrowPeak \\\n",
    "        --sizes $atacworks/data/reference/hg19.chrom.sizes \\\n",
    "        --out_dir train_data/clean_data \\\n",
    "        --skip 1; \\\n",
    "done"
   ]
  },
  {
   "cell_type": "code",
   "execution_count": null,
   "metadata": {},
   "outputs": [],
   "source": [
    "!mkdir train_h5\n",
    "%env cell_types =CD19 Mono\n",
    "%env subsamples=1 2 3 4 5\n",
    "!for cell_type in ${cell_types[*]}; do \\\n",
    "    for subsample in ${subsamples[*]}; do \\\n",
    "        python $atacworks/scripts/bw2h5.py \\\n",
    "           --noisybw train_data/noisy_data/dsc.$subsample.${cell_type}.50.cutsites.smoothed.200.bw \\\n",
    "           --cleanbw train_data/clean_data/dsc.${cell_type}.2400.cutsites.smoothed.200.bw \\\n",
    "           --cleanpeakbw train_data/clean_data/dsc.${cell_type}.2400.cutsites.smoothed.200.3.narrowPeak.bw \\\n",
    "           --intervals training_intervals.bed \\\n",
    "           --out_dir train_h5 \\\n",
    "           --prefix ${cell_type}.$subsample.50.2400.train \\\n",
    "           --pad 5000 \\\n",
    "           --nonzero; \\\n",
    "    done; \\\n",
    "done"
   ]
  },
  {
   "cell_type": "markdown",
   "metadata": {},
   "source": [
    "- Encode all the validation data and save in the `val_h5` directory."
   ]
  },
  {
   "cell_type": "code",
   "execution_count": null,
   "metadata": {},
   "outputs": [],
   "source": [
    "!mkdir val_h5\n",
    "%env cell_types =CD19 Mono\n",
    "!for cell_type in ${cell_types[*]}; do \\\n",
    "    python $atacworks/scripts/bw2h5.py \\\n",
    "           --noisybw train_data/noisy_data/dsc.1.${cell_type}.50.cutsites.smoothed.200.bw \\\n",
    "           --cleanbw train_data/clean_data/dsc.${cell_type}.2400.cutsites.smoothed.200.bw \\\n",
    "           --cleanpeakbw train_data/clean_data/dsc.${cell_type}.2400.cutsites.smoothed.200.3.narrowPeak.bw \\\n",
    "           --intervals val_intervals.bed \\\n",
    "           --out_dir val_h5 \\\n",
    "           --prefix ${cell_type}.50.2400.val \\\n",
    "           --pad 5000; \\\n",
    "done"
   ]
  },
  {
   "cell_type": "markdown",
   "metadata": {},
   "source": [
    "- Train using all of the training and validation data. Here, we supply the directories `train_h5` and `val_h5`, and the model uses all the files within these directories for training and validation respectively."
   ]
  },
  {
   "cell_type": "code",
   "execution_count": null,
   "metadata": {},
   "outputs": [],
   "source": [
    "!python $atacworks/scripts/main.py train \\\n",
    "        --config configs/train_config.yaml \\\n",
    "        --config_mparams configs/model_structure.yaml \\\n",
    "        --files_train train_h5 \\\n",
    "        --val_files val_h5"
   ]
  },
  {
   "cell_type": "code",
   "execution_count": null,
   "metadata": {},
   "outputs": [],
   "source": []
  }
 ],
 "metadata": {
  "kernelspec": {
   "display_name": "Python 3",
   "language": "python",
   "name": "python3"
  },
  "language_info": {
   "codemirror_mode": {
    "name": "ipython",
    "version": 3
   },
   "file_extension": ".py",
   "mimetype": "text/x-python",
   "name": "python",
   "nbconvert_exporter": "python",
   "pygments_lexer": "ipython3",
   "version": "3.6.9"
  }
 },
 "nbformat": 4,
 "nbformat_minor": 4
}
